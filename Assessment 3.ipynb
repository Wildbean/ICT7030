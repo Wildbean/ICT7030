{
 "cells": [
  {
   "cell_type": "code",
   "execution_count": 120,
   "metadata": {},
   "outputs": [],
   "source": [
    "import pandas as pd\n",
    "import numpy as np\n",
    "import matplotlib.pyplot as plt\n",
    "import seaborn as sns\n",
    "import re"
   ]
  },
  {
   "cell_type": "code",
   "execution_count": 121,
   "metadata": {},
   "outputs": [
    {
     "data": {
      "text/plain": [
       "(149999, 13)"
      ]
     },
     "execution_count": 121,
     "metadata": {},
     "output_type": "execute_result"
    }
   ],
   "source": [
    "df = pd.read_csv('data_assignment.csv')\n",
    "df.shape"
   ]
  },
  {
   "cell_type": "code",
   "execution_count": 122,
   "metadata": {},
   "outputs": [
    {
     "data": {
      "text/plain": [
       "Id                    int64\n",
       "Title                object\n",
       "Company              object\n",
       "Date                 object\n",
       "Location             object\n",
       "Area                 object\n",
       "Classification       object\n",
       "SubClassification    object\n",
       "Requirement          object\n",
       "FullDescription      object\n",
       "LowestSalary          int64\n",
       "HighestSalary         int64\n",
       "JobType              object\n",
       "dtype: object"
      ]
     },
     "execution_count": 122,
     "metadata": {},
     "output_type": "execute_result"
    }
   ],
   "source": [
    "df.dtypes"
   ]
  },
  {
   "cell_type": "code",
   "execution_count": 123,
   "metadata": {},
   "outputs": [
    {
     "data": {
      "text/plain": [
       "Index(['Id', 'Title', 'Company', 'Date', 'Location', 'Area', 'Classification',\n",
       "       'SubClassification', 'Requirement', 'FullDescription', 'LowestSalary',\n",
       "       'HighestSalary', 'JobType'],\n",
       "      dtype='object')"
      ]
     },
     "execution_count": 123,
     "metadata": {},
     "output_type": "execute_result"
    }
   ],
   "source": [
    "df.columns"
   ]
  },
  {
   "cell_type": "code",
   "execution_count": 124,
   "metadata": {
    "scrolled": true
   },
   "outputs": [
    {
     "data": {
      "text/html": [
       "<div>\n",
       "<style scoped>\n",
       "    .dataframe tbody tr th:only-of-type {\n",
       "        vertical-align: middle;\n",
       "    }\n",
       "\n",
       "    .dataframe tbody tr th {\n",
       "        vertical-align: top;\n",
       "    }\n",
       "\n",
       "    .dataframe thead th {\n",
       "        text-align: right;\n",
       "    }\n",
       "</style>\n",
       "<table border=\"1\" class=\"dataframe\">\n",
       "  <thead>\n",
       "    <tr style=\"text-align: right;\">\n",
       "      <th></th>\n",
       "      <th>Id</th>\n",
       "      <th>Title</th>\n",
       "      <th>Company</th>\n",
       "      <th>Date</th>\n",
       "      <th>Location</th>\n",
       "      <th>Area</th>\n",
       "      <th>Classification</th>\n",
       "      <th>SubClassification</th>\n",
       "      <th>Requirement</th>\n",
       "      <th>FullDescription</th>\n",
       "      <th>LowestSalary</th>\n",
       "      <th>HighestSalary</th>\n",
       "      <th>JobType</th>\n",
       "    </tr>\n",
       "  </thead>\n",
       "  <tbody>\n",
       "    <tr>\n",
       "      <th>count</th>\n",
       "      <td>1.499990e+05</td>\n",
       "      <td>149999</td>\n",
       "      <td>144237</td>\n",
       "      <td>149999</td>\n",
       "      <td>149999</td>\n",
       "      <td>93496</td>\n",
       "      <td>149999</td>\n",
       "      <td>149999</td>\n",
       "      <td>149999</td>\n",
       "      <td>146717</td>\n",
       "      <td>149999.000000</td>\n",
       "      <td>149999.000000</td>\n",
       "      <td>146766</td>\n",
       "    </tr>\n",
       "    <tr>\n",
       "      <th>unique</th>\n",
       "      <td>NaN</td>\n",
       "      <td>92115</td>\n",
       "      <td>26318</td>\n",
       "      <td>44</td>\n",
       "      <td>65</td>\n",
       "      <td>19</td>\n",
       "      <td>30</td>\n",
       "      <td>338</td>\n",
       "      <td>121324</td>\n",
       "      <td>127676</td>\n",
       "      <td>NaN</td>\n",
       "      <td>NaN</td>\n",
       "      <td>4</td>\n",
       "    </tr>\n",
       "    <tr>\n",
       "      <th>top</th>\n",
       "      <td>NaN</td>\n",
       "      <td>Project Manager</td>\n",
       "      <td>Jora Local</td>\n",
       "      <td>2018-10-17T00:00:00.000Z</td>\n",
       "      <td>Sydney</td>\n",
       "      <td>CBD &amp; Inner Suburbs</td>\n",
       "      <td>Information &amp; Communication Technology</td>\n",
       "      <td>Other</td>\n",
       "      <td>#NAME?</td>\n",
       "      <td>&lt;p&gt;&lt;strong&gt;At ALDI, our people are the key to ...</td>\n",
       "      <td>NaN</td>\n",
       "      <td>NaN</td>\n",
       "      <td>Full Time</td>\n",
       "    </tr>\n",
       "    <tr>\n",
       "      <th>freq</th>\n",
       "      <td>NaN</td>\n",
       "      <td>592</td>\n",
       "      <td>4896</td>\n",
       "      <td>13059</td>\n",
       "      <td>46357</td>\n",
       "      <td>24302</td>\n",
       "      <td>16661</td>\n",
       "      <td>8691</td>\n",
       "      <td>168</td>\n",
       "      <td>115</td>\n",
       "      <td>NaN</td>\n",
       "      <td>NaN</td>\n",
       "      <td>96410</td>\n",
       "    </tr>\n",
       "    <tr>\n",
       "      <th>mean</th>\n",
       "      <td>3.752134e+07</td>\n",
       "      <td>NaN</td>\n",
       "      <td>NaN</td>\n",
       "      <td>NaN</td>\n",
       "      <td>NaN</td>\n",
       "      <td>NaN</td>\n",
       "      <td>NaN</td>\n",
       "      <td>NaN</td>\n",
       "      <td>NaN</td>\n",
       "      <td>NaN</td>\n",
       "      <td>64.901766</td>\n",
       "      <td>86.072374</td>\n",
       "      <td>NaN</td>\n",
       "    </tr>\n",
       "    <tr>\n",
       "      <th>std</th>\n",
       "      <td>1.019004e+05</td>\n",
       "      <td>NaN</td>\n",
       "      <td>NaN</td>\n",
       "      <td>NaN</td>\n",
       "      <td>NaN</td>\n",
       "      <td>NaN</td>\n",
       "      <td>NaN</td>\n",
       "      <td>NaN</td>\n",
       "      <td>NaN</td>\n",
       "      <td>NaN</td>\n",
       "      <td>49.420658</td>\n",
       "      <td>56.932917</td>\n",
       "      <td>NaN</td>\n",
       "    </tr>\n",
       "    <tr>\n",
       "      <th>min</th>\n",
       "      <td>3.679538e+07</td>\n",
       "      <td>NaN</td>\n",
       "      <td>NaN</td>\n",
       "      <td>NaN</td>\n",
       "      <td>NaN</td>\n",
       "      <td>NaN</td>\n",
       "      <td>NaN</td>\n",
       "      <td>NaN</td>\n",
       "      <td>NaN</td>\n",
       "      <td>NaN</td>\n",
       "      <td>0.000000</td>\n",
       "      <td>30.000000</td>\n",
       "      <td>NaN</td>\n",
       "    </tr>\n",
       "    <tr>\n",
       "      <th>25%</th>\n",
       "      <td>3.742646e+07</td>\n",
       "      <td>NaN</td>\n",
       "      <td>NaN</td>\n",
       "      <td>NaN</td>\n",
       "      <td>NaN</td>\n",
       "      <td>NaN</td>\n",
       "      <td>NaN</td>\n",
       "      <td>NaN</td>\n",
       "      <td>NaN</td>\n",
       "      <td>NaN</td>\n",
       "      <td>30.000000</td>\n",
       "      <td>40.000000</td>\n",
       "      <td>NaN</td>\n",
       "    </tr>\n",
       "    <tr>\n",
       "      <th>50%</th>\n",
       "      <td>3.750692e+07</td>\n",
       "      <td>NaN</td>\n",
       "      <td>NaN</td>\n",
       "      <td>NaN</td>\n",
       "      <td>NaN</td>\n",
       "      <td>NaN</td>\n",
       "      <td>NaN</td>\n",
       "      <td>NaN</td>\n",
       "      <td>NaN</td>\n",
       "      <td>NaN</td>\n",
       "      <td>60.000000</td>\n",
       "      <td>70.000000</td>\n",
       "      <td>NaN</td>\n",
       "    </tr>\n",
       "    <tr>\n",
       "      <th>75%</th>\n",
       "      <td>3.760540e+07</td>\n",
       "      <td>NaN</td>\n",
       "      <td>NaN</td>\n",
       "      <td>NaN</td>\n",
       "      <td>NaN</td>\n",
       "      <td>NaN</td>\n",
       "      <td>NaN</td>\n",
       "      <td>NaN</td>\n",
       "      <td>NaN</td>\n",
       "      <td>NaN</td>\n",
       "      <td>100.000000</td>\n",
       "      <td>120.000000</td>\n",
       "      <td>NaN</td>\n",
       "    </tr>\n",
       "    <tr>\n",
       "      <th>max</th>\n",
       "      <td>3.771072e+07</td>\n",
       "      <td>NaN</td>\n",
       "      <td>NaN</td>\n",
       "      <td>NaN</td>\n",
       "      <td>NaN</td>\n",
       "      <td>NaN</td>\n",
       "      <td>NaN</td>\n",
       "      <td>NaN</td>\n",
       "      <td>NaN</td>\n",
       "      <td>NaN</td>\n",
       "      <td>200.000000</td>\n",
       "      <td>250.000000</td>\n",
       "      <td>NaN</td>\n",
       "    </tr>\n",
       "  </tbody>\n",
       "</table>\n",
       "</div>"
      ],
      "text/plain": [
       "                  Id            Title     Company                      Date  \\\n",
       "count   1.499990e+05           149999      144237                    149999   \n",
       "unique           NaN            92115       26318                        44   \n",
       "top              NaN  Project Manager  Jora Local  2018-10-17T00:00:00.000Z   \n",
       "freq             NaN              592        4896                     13059   \n",
       "mean    3.752134e+07              NaN         NaN                       NaN   \n",
       "std     1.019004e+05              NaN         NaN                       NaN   \n",
       "min     3.679538e+07              NaN         NaN                       NaN   \n",
       "25%     3.742646e+07              NaN         NaN                       NaN   \n",
       "50%     3.750692e+07              NaN         NaN                       NaN   \n",
       "75%     3.760540e+07              NaN         NaN                       NaN   \n",
       "max     3.771072e+07              NaN         NaN                       NaN   \n",
       "\n",
       "       Location                 Area                          Classification  \\\n",
       "count    149999                93496                                  149999   \n",
       "unique       65                   19                                      30   \n",
       "top      Sydney  CBD & Inner Suburbs  Information & Communication Technology   \n",
       "freq      46357                24302                                   16661   \n",
       "mean        NaN                  NaN                                     NaN   \n",
       "std         NaN                  NaN                                     NaN   \n",
       "min         NaN                  NaN                                     NaN   \n",
       "25%         NaN                  NaN                                     NaN   \n",
       "50%         NaN                  NaN                                     NaN   \n",
       "75%         NaN                  NaN                                     NaN   \n",
       "max         NaN                  NaN                                     NaN   \n",
       "\n",
       "       SubClassification Requirement  \\\n",
       "count             149999      149999   \n",
       "unique               338      121324   \n",
       "top                Other      #NAME?   \n",
       "freq                8691         168   \n",
       "mean                 NaN         NaN   \n",
       "std                  NaN         NaN   \n",
       "min                  NaN         NaN   \n",
       "25%                  NaN         NaN   \n",
       "50%                  NaN         NaN   \n",
       "75%                  NaN         NaN   \n",
       "max                  NaN         NaN   \n",
       "\n",
       "                                          FullDescription   LowestSalary  \\\n",
       "count                                              146717  149999.000000   \n",
       "unique                                             127676            NaN   \n",
       "top     <p><strong>At ALDI, our people are the key to ...            NaN   \n",
       "freq                                                  115            NaN   \n",
       "mean                                                  NaN      64.901766   \n",
       "std                                                   NaN      49.420658   \n",
       "min                                                   NaN       0.000000   \n",
       "25%                                                   NaN      30.000000   \n",
       "50%                                                   NaN      60.000000   \n",
       "75%                                                   NaN     100.000000   \n",
       "max                                                   NaN     200.000000   \n",
       "\n",
       "        HighestSalary    JobType  \n",
       "count   149999.000000     146766  \n",
       "unique            NaN          4  \n",
       "top               NaN  Full Time  \n",
       "freq              NaN      96410  \n",
       "mean        86.072374        NaN  \n",
       "std         56.932917        NaN  \n",
       "min         30.000000        NaN  \n",
       "25%         40.000000        NaN  \n",
       "50%         70.000000        NaN  \n",
       "75%        120.000000        NaN  \n",
       "max        250.000000        NaN  "
      ]
     },
     "execution_count": 124,
     "metadata": {},
     "output_type": "execute_result"
    }
   ],
   "source": [
    "df.describe(include = ['int64', 'object'])"
   ]
  },
  {
   "cell_type": "code",
   "execution_count": 125,
   "metadata": {},
   "outputs": [
    {
     "data": {
      "text/plain": [
       "'2018-10-01T00:00:00.000Z'"
      ]
     },
     "execution_count": 125,
     "metadata": {},
     "output_type": "execute_result"
    }
   ],
   "source": [
    "df['Date'].unique().min()"
   ]
  },
  {
   "cell_type": "code",
   "execution_count": 126,
   "metadata": {},
   "outputs": [
    {
     "data": {
      "text/plain": [
       "'2018-11-13T00:00:00.000Z'"
      ]
     },
     "execution_count": 126,
     "metadata": {},
     "output_type": "execute_result"
    }
   ],
   "source": [
    "df['Date'].unique().max()"
   ]
  },
  {
   "cell_type": "code",
   "execution_count": 127,
   "metadata": {},
   "outputs": [
    {
     "data": {
      "text/plain": [
       "count                                     149999\n",
       "unique                                        30\n",
       "top       Information & Communication Technology\n",
       "freq                                       16661\n",
       "Name: Classification, dtype: object"
      ]
     },
     "execution_count": 127,
     "metadata": {},
     "output_type": "execute_result"
    }
   ],
   "source": [
    "df['Classification'].describe()"
   ]
  },
  {
   "cell_type": "code",
   "execution_count": 128,
   "metadata": {},
   "outputs": [
    {
     "data": {
      "text/plain": [
       "Information & Communication Technology    16661\n",
       "Trades & Services                         14125\n",
       "Healthcare & Medical                      12515\n",
       "Hospitality & Tourism                     11818\n",
       "Manufacturing, Transport & Logistics       9608\n",
       "Administration & Office Support            7636\n",
       "Accounting                                 7075\n",
       "Education & Training                       7033\n",
       "Retail & Consumer Products                 6496\n",
       "Sales                                      6281\n",
       "Construction                               6254\n",
       "Government & Defence                       5926\n",
       "Engineering                                4812\n",
       "Mining, Resources & Energy                 4679\n",
       "Community Services & Development           3528\n",
       "Banking & Financial Services               3481\n",
       "Human Resources & Recruitment              3233\n",
       "Call Centre & Customer Service             3127\n",
       "Legal                                      3071\n",
       "Marketing & Communications                 3052\n",
       "Real Estate & Property                     2729\n",
       "Design & Architecture                      1379\n",
       "Insurance & Superannuation                 1144\n",
       "Consulting & Strategy                       905\n",
       "Sport & Recreation                          750\n",
       "Science & Technology                        696\n",
       "Farming, Animals & Conservation             683\n",
       "Advertising, Arts & Media                   644\n",
       "CEO & General Management                    585\n",
       "Self Employment                              73\n",
       "Name: Classification, dtype: int64"
      ]
     },
     "execution_count": 128,
     "metadata": {},
     "output_type": "execute_result"
    }
   ],
   "source": [
    "df['Classification'].value_counts()"
   ]
  },
  {
   "cell_type": "code",
   "execution_count": 129,
   "metadata": {},
   "outputs": [
    {
     "data": {
      "text/plain": [
       "Sydney                                  46357\n",
       "Melbourne                               35315\n",
       "Brisbane                                16538\n",
       "Perth                                    9913\n",
       "Adelaide                                 4998\n",
       "                                        ...  \n",
       "Coober Pedy & Outback SA                   78\n",
       "Tumut, Snowy & Monaro                      69\n",
       "Somerset & Lockyer                         56\n",
       "Fleurieu Peninsula & Kangaroo Island       53\n",
       "Central & South East TAS                   36\n",
       "Name: Location, Length: 65, dtype: int64"
      ]
     },
     "execution_count": 129,
     "metadata": {},
     "output_type": "execute_result"
    }
   ],
   "source": [
    "df['Location'].value_counts()"
   ]
  },
  {
   "cell_type": "code",
   "execution_count": 130,
   "metadata": {},
   "outputs": [
    {
     "data": {
      "text/plain": [
       "30"
      ]
     },
     "execution_count": 130,
     "metadata": {},
     "output_type": "execute_result"
    }
   ],
   "source": [
    "len(df['Classification'].unique())"
   ]
  },
  {
   "cell_type": "code",
   "execution_count": 131,
   "metadata": {},
   "outputs": [
    {
     "data": {
      "text/plain": [
       "Developers/Programmers                   3069\n",
       "Business/Systems Analysts                2076\n",
       "Programme & Project Management           1665\n",
       "Architects                               1110\n",
       "Engineering - Software                   1087\n",
       "Help Desk & IT Support                   1074\n",
       "Networks & Systems Administration         927\n",
       "Consultants                               849\n",
       "Other                                     742\n",
       "Testing & Quality Assurance               606\n",
       "Management                                561\n",
       "Security                                  524\n",
       "Engineering - Network                     402\n",
       "Database Development & Administration     395\n",
       "Web Development & Production              351\n",
       "Sales - Pre & Post                        349\n",
       "Product Management & Development          281\n",
       "Telecommunications                        269\n",
       "Team Leaders                              141\n",
       "Engineering - Hardware                     94\n",
       "Technical Writing                          77\n",
       "Computer Operators                         12\n",
       "Name: SubClassification, dtype: int64"
      ]
     },
     "execution_count": 131,
     "metadata": {},
     "output_type": "execute_result"
    }
   ],
   "source": [
    "infoTech = df[df['Classification']=='Information & Communication Technology']\n",
    "infoTech['SubClassification'].value_counts()"
   ]
  },
  {
   "cell_type": "code",
   "execution_count": 132,
   "metadata": {},
   "outputs": [
    {
     "data": {
      "text/plain": [
       "22"
      ]
     },
     "execution_count": 132,
     "metadata": {},
     "output_type": "execute_result"
    }
   ],
   "source": [
    "len(infoTech['SubClassification'].unique())"
   ]
  },
  {
   "cell_type": "code",
   "execution_count": 133,
   "metadata": {},
   "outputs": [
    {
     "data": {
      "text/plain": [
       "LowestSalary  HighestSalary\n",
       "0             30               27606\n",
       "30            40               12441\n",
       "40            50               17708\n",
       "50            60               12559\n",
       "60            70               14108\n",
       "70            80               12932\n",
       "80            100              12582\n",
       "100           120              13062\n",
       "120           150              10651\n",
       "150           200              11738\n",
       "200           250               4612\n",
       "Name: Id, dtype: int64"
      ]
     },
     "execution_count": 133,
     "metadata": {},
     "output_type": "execute_result"
    }
   ],
   "source": [
    "salGrp = df.groupby(['LowestSalary', 'HighestSalary'])\n",
    "salGrp['Id'].count()"
   ]
  },
  {
   "cell_type": "code",
   "execution_count": 134,
   "metadata": {},
   "outputs": [
    {
     "name": "stderr",
     "output_type": "stream",
     "text": [
      "C:\\Users\\maddi\\anaconda3\\lib\\site-packages\\ipykernel_launcher.py:2: FutureWarning: Indexing with multiple keys (implicitly converted to a tuple of keys) will be deprecated, use a list instead.\n",
      "  \n"
     ]
    },
    {
     "data": {
      "text/html": [
       "<div>\n",
       "<style scoped>\n",
       "    .dataframe tbody tr th:only-of-type {\n",
       "        vertical-align: middle;\n",
       "    }\n",
       "\n",
       "    .dataframe tbody tr th {\n",
       "        vertical-align: top;\n",
       "    }\n",
       "\n",
       "    .dataframe thead th {\n",
       "        text-align: right;\n",
       "    }\n",
       "</style>\n",
       "<table border=\"1\" class=\"dataframe\">\n",
       "  <thead>\n",
       "    <tr style=\"text-align: right;\">\n",
       "      <th></th>\n",
       "      <th>LowestSalary</th>\n",
       "      <th>HighestSalary</th>\n",
       "    </tr>\n",
       "    <tr>\n",
       "      <th>JobType</th>\n",
       "      <th></th>\n",
       "      <th></th>\n",
       "    </tr>\n",
       "  </thead>\n",
       "  <tbody>\n",
       "    <tr>\n",
       "      <th>Casual/Vacation</th>\n",
       "      <td>0</td>\n",
       "      <td>250</td>\n",
       "    </tr>\n",
       "    <tr>\n",
       "      <th>Contract/Temp</th>\n",
       "      <td>0</td>\n",
       "      <td>250</td>\n",
       "    </tr>\n",
       "    <tr>\n",
       "      <th>Full Time</th>\n",
       "      <td>0</td>\n",
       "      <td>250</td>\n",
       "    </tr>\n",
       "    <tr>\n",
       "      <th>Part Time</th>\n",
       "      <td>0</td>\n",
       "      <td>250</td>\n",
       "    </tr>\n",
       "  </tbody>\n",
       "</table>\n",
       "</div>"
      ],
      "text/plain": [
       "                 LowestSalary  HighestSalary\n",
       "JobType                                     \n",
       "Casual/Vacation             0            250\n",
       "Contract/Temp               0            250\n",
       "Full Time                   0            250\n",
       "Part Time                   0            250"
      ]
     },
     "execution_count": 134,
     "metadata": {},
     "output_type": "execute_result"
    }
   ],
   "source": [
    "jobSal = df.groupby(['JobType'])\n",
    "jobSal['LowestSalary', 'HighestSalary'].agg({'LowestSalary':min, 'HighestSalary':max})"
   ]
  },
  {
   "cell_type": "code",
   "execution_count": 135,
   "metadata": {},
   "outputs": [
    {
     "data": {
      "text/html": [
       "<div>\n",
       "<style scoped>\n",
       "    .dataframe tbody tr th:only-of-type {\n",
       "        vertical-align: middle;\n",
       "    }\n",
       "\n",
       "    .dataframe tbody tr th {\n",
       "        vertical-align: top;\n",
       "    }\n",
       "\n",
       "    .dataframe thead th {\n",
       "        text-align: right;\n",
       "    }\n",
       "</style>\n",
       "<table border=\"1\" class=\"dataframe\">\n",
       "  <thead>\n",
       "    <tr style=\"text-align: right;\">\n",
       "      <th></th>\n",
       "      <th>Id</th>\n",
       "      <th>Title</th>\n",
       "      <th>Company</th>\n",
       "      <th>Date</th>\n",
       "      <th>Location</th>\n",
       "      <th>Area</th>\n",
       "      <th>Classification</th>\n",
       "      <th>SubClassification</th>\n",
       "      <th>Requirement</th>\n",
       "      <th>FullDescription</th>\n",
       "      <th>LowestSalary</th>\n",
       "      <th>HighestSalary</th>\n",
       "      <th>JobType</th>\n",
       "      <th>AverageSalary</th>\n",
       "    </tr>\n",
       "  </thead>\n",
       "  <tbody>\n",
       "    <tr>\n",
       "      <th>22979</th>\n",
       "      <td>37399499</td>\n",
       "      <td>General Manager</td>\n",
       "      <td>AIMS International Executive Search</td>\n",
       "      <td>2018-10-05T00:00:00.000Z</td>\n",
       "      <td>Sydney</td>\n",
       "      <td>CBD, Inner West &amp; Eastern Suburbs</td>\n",
       "      <td>CEO &amp; General Management</td>\n",
       "      <td>General/Business Unit Manager</td>\n",
       "      <td>• Specially FMCG Products Experience • Must ha...</td>\n",
       "      <td>&lt;ul&gt;\\n            &lt;li&gt;&lt;strong&gt;Specially FMCG P...</td>\n",
       "      <td>200</td>\n",
       "      <td>250</td>\n",
       "      <td>Full Time</td>\n",
       "      <td>225.0</td>\n",
       "    </tr>\n",
       "    <tr>\n",
       "      <th>22980</th>\n",
       "      <td>37398700</td>\n",
       "      <td>Chief Operating Officer</td>\n",
       "      <td>AIMS International Executive Search</td>\n",
       "      <td>2018-10-05T00:00:00.000Z</td>\n",
       "      <td>Brisbane</td>\n",
       "      <td>CBD &amp; Inner Suburbs</td>\n",
       "      <td>CEO &amp; General Management</td>\n",
       "      <td>COO &amp; MD</td>\n",
       "      <td>Automotive Aftermarket Products • ASX Business...</td>\n",
       "      <td>&lt;ul&gt;\\n            &lt;li&gt;&lt;strong&gt;Automotive After...</td>\n",
       "      <td>200</td>\n",
       "      <td>250</td>\n",
       "      <td>Full Time</td>\n",
       "      <td>225.0</td>\n",
       "    </tr>\n",
       "    <tr>\n",
       "      <th>22981</th>\n",
       "      <td>37398465</td>\n",
       "      <td>Managing Director</td>\n",
       "      <td>AIMS International Executive Search</td>\n",
       "      <td>2018-10-05T00:00:00.000Z</td>\n",
       "      <td>Brisbane</td>\n",
       "      <td>CBD &amp; Inner Suburbs</td>\n",
       "      <td>CEO &amp; General Management</td>\n",
       "      <td>CEO</td>\n",
       "      <td>• Base Salary to $280K plus Bonus • Property a...</td>\n",
       "      <td>&lt;ul&gt;\\n            &lt;li&gt;&lt;strong&gt;Base Salary to $...</td>\n",
       "      <td>200</td>\n",
       "      <td>250</td>\n",
       "      <td>Full Time</td>\n",
       "      <td>225.0</td>\n",
       "    </tr>\n",
       "    <tr>\n",
       "      <th>22982</th>\n",
       "      <td>37398318</td>\n",
       "      <td>CHIEF INFORMATION OFFICER</td>\n",
       "      <td>Hender Consulting</td>\n",
       "      <td>2018-10-04T00:00:00.000Z</td>\n",
       "      <td>West Gippsland &amp; Latrobe Valley</td>\n",
       "      <td>NaN</td>\n",
       "      <td>CEO &amp; General Management</td>\n",
       "      <td>General/Business Unit Manager</td>\n",
       "      <td>Pivotal IT leadership role with well establish...</td>\n",
       "      <td>&lt;p&gt;&lt;strong&gt;Latrobe Health Services&lt;/strong&gt;&lt;/p...</td>\n",
       "      <td>200</td>\n",
       "      <td>250</td>\n",
       "      <td>Full Time</td>\n",
       "      <td>225.0</td>\n",
       "    </tr>\n",
       "    <tr>\n",
       "      <th>22983</th>\n",
       "      <td>37398206</td>\n",
       "      <td>CHIEF INFORMATION OFFICER</td>\n",
       "      <td>Hender Consulting</td>\n",
       "      <td>2018-10-04T00:00:00.000Z</td>\n",
       "      <td>Bairnsdale &amp; Gippsland</td>\n",
       "      <td>NaN</td>\n",
       "      <td>CEO &amp; General Management</td>\n",
       "      <td>General/Business Unit Manager</td>\n",
       "      <td>Pivotal IT leadership role with well establish...</td>\n",
       "      <td>&lt;p&gt;&lt;strong&gt;Latrobe Health Services&lt;/strong&gt;&lt;/p...</td>\n",
       "      <td>200</td>\n",
       "      <td>250</td>\n",
       "      <td>Full Time</td>\n",
       "      <td>225.0</td>\n",
       "    </tr>\n",
       "  </tbody>\n",
       "</table>\n",
       "</div>"
      ],
      "text/plain": [
       "             Id                      Title  \\\n",
       "22979  37399499            General Manager   \n",
       "22980  37398700    Chief Operating Officer   \n",
       "22981  37398465          Managing Director   \n",
       "22982  37398318  CHIEF INFORMATION OFFICER   \n",
       "22983  37398206  CHIEF INFORMATION OFFICER   \n",
       "\n",
       "                                   Company                      Date  \\\n",
       "22979  AIMS International Executive Search  2018-10-05T00:00:00.000Z   \n",
       "22980  AIMS International Executive Search  2018-10-05T00:00:00.000Z   \n",
       "22981  AIMS International Executive Search  2018-10-05T00:00:00.000Z   \n",
       "22982                    Hender Consulting  2018-10-04T00:00:00.000Z   \n",
       "22983                    Hender Consulting  2018-10-04T00:00:00.000Z   \n",
       "\n",
       "                              Location                               Area  \\\n",
       "22979                           Sydney  CBD, Inner West & Eastern Suburbs   \n",
       "22980                         Brisbane                CBD & Inner Suburbs   \n",
       "22981                         Brisbane                CBD & Inner Suburbs   \n",
       "22982  West Gippsland & Latrobe Valley                                NaN   \n",
       "22983           Bairnsdale & Gippsland                                NaN   \n",
       "\n",
       "                 Classification              SubClassification  \\\n",
       "22979  CEO & General Management  General/Business Unit Manager   \n",
       "22980  CEO & General Management                       COO & MD   \n",
       "22981  CEO & General Management                            CEO   \n",
       "22982  CEO & General Management  General/Business Unit Manager   \n",
       "22983  CEO & General Management  General/Business Unit Manager   \n",
       "\n",
       "                                             Requirement  \\\n",
       "22979  • Specially FMCG Products Experience • Must ha...   \n",
       "22980  Automotive Aftermarket Products • ASX Business...   \n",
       "22981  • Base Salary to $280K plus Bonus • Property a...   \n",
       "22982  Pivotal IT leadership role with well establish...   \n",
       "22983  Pivotal IT leadership role with well establish...   \n",
       "\n",
       "                                         FullDescription  LowestSalary  \\\n",
       "22979  <ul>\\n            <li><strong>Specially FMCG P...           200   \n",
       "22980  <ul>\\n            <li><strong>Automotive After...           200   \n",
       "22981  <ul>\\n            <li><strong>Base Salary to $...           200   \n",
       "22982  <p><strong>Latrobe Health Services</strong></p...           200   \n",
       "22983  <p><strong>Latrobe Health Services</strong></p...           200   \n",
       "\n",
       "       HighestSalary    JobType  AverageSalary  \n",
       "22979            250  Full Time          225.0  \n",
       "22980            250  Full Time          225.0  \n",
       "22981            250  Full Time          225.0  \n",
       "22982            250  Full Time          225.0  \n",
       "22983            250  Full Time          225.0  "
      ]
     },
     "execution_count": 135,
     "metadata": {},
     "output_type": "execute_result"
    }
   ],
   "source": [
    "df['AverageSalary'] = (df['LowestSalary']+df['HighestSalary'])/2\n",
    "df[df['HighestSalary']==250].head()"
   ]
  },
  {
   "cell_type": "code",
   "execution_count": 136,
   "metadata": {},
   "outputs": [
    {
     "name": "stdout",
     "output_type": "stream",
     "text": [
      "<class 'pandas.core.frame.DataFrame'>\n",
      "RangeIndex: 149999 entries, 0 to 149998\n",
      "Data columns (total 14 columns):\n",
      " #   Column             Non-Null Count   Dtype  \n",
      "---  ------             --------------   -----  \n",
      " 0   Id                 149999 non-null  int64  \n",
      " 1   Title              149999 non-null  object \n",
      " 2   Company            144237 non-null  object \n",
      " 3   Date               149999 non-null  object \n",
      " 4   Location           149999 non-null  object \n",
      " 5   Area               93496 non-null   object \n",
      " 6   Classification     149999 non-null  object \n",
      " 7   SubClassification  149999 non-null  object \n",
      " 8   Requirement        149999 non-null  object \n",
      " 9   FullDescription    146717 non-null  object \n",
      " 10  LowestSalary       149999 non-null  int64  \n",
      " 11  HighestSalary      149999 non-null  int64  \n",
      " 12  JobType            146766 non-null  object \n",
      " 13  AverageSalary      149999 non-null  float64\n",
      "dtypes: float64(1), int64(3), object(10)\n",
      "memory usage: 16.0+ MB\n"
     ]
    }
   ],
   "source": [
    "df.info()"
   ]
  },
  {
   "cell_type": "code",
   "execution_count": 137,
   "metadata": {},
   "outputs": [],
   "source": [
    "#need to convert id to string to find the length \n",
    "idAsString = df['Id'].astype(str) \n",
    "#idAsString\n",
    "\n",
    "#df[idsToCut]\n",
    "# function to change Id entrie to 8 characters. \n",
    "#df['Id'].apply(function)\n"
   ]
  },
  {
   "cell_type": "code",
   "execution_count": 138,
   "metadata": {},
   "outputs": [
    {
     "data": {
      "text/plain": [
       "count                       149999\n",
       "unique                          44\n",
       "top       2018-10-17T00:00:00.000Z\n",
       "freq                         13059\n",
       "Name: Date, dtype: object"
      ]
     },
     "execution_count": 138,
     "metadata": {},
     "output_type": "execute_result"
    }
   ],
   "source": [
    "#remove time from date\n",
    "df['Date'].describe()"
   ]
  },
  {
   "cell_type": "code",
   "execution_count": 139,
   "metadata": {},
   "outputs": [
    {
     "data": {
      "text/plain": [
       "0         2018-10-07\n",
       "1         2018-10-07\n",
       "2         2018-10-07\n",
       "3         2018-10-07\n",
       "4         2018-10-07\n",
       "             ...    \n",
       "149994    2018-11-13\n",
       "149995    2018-11-13\n",
       "149996    2018-11-13\n",
       "149997    2018-11-13\n",
       "149998    2018-11-13\n",
       "Name: Date, Length: 149999, dtype: object"
      ]
     },
     "execution_count": 139,
     "metadata": {},
     "output_type": "execute_result"
    }
   ],
   "source": [
    "df['Date'] = pd.to_datetime(df['Date']).dt.date\n",
    "df['Date']"
   ]
  },
  {
   "cell_type": "code",
   "execution_count": 140,
   "metadata": {},
   "outputs": [
    {
     "data": {
      "text/plain": [
       "count         149999\n",
       "unique            44\n",
       "top       2018-10-17\n",
       "freq           13059\n",
       "Name: Date, dtype: object"
      ]
     },
     "execution_count": 140,
     "metadata": {},
     "output_type": "execute_result"
    }
   ],
   "source": [
    "df['Date'].describe()"
   ]
  },
  {
   "cell_type": "code",
   "execution_count": 141,
   "metadata": {},
   "outputs": [
    {
     "data": {
      "text/plain": [
       "count    1.499990e+05\n",
       "mean     3.752134e+07\n",
       "std      1.019004e+05\n",
       "min      3.679538e+07\n",
       "25%      3.742646e+07\n",
       "50%      3.750692e+07\n",
       "75%      3.760540e+07\n",
       "max      3.771072e+07\n",
       "Name: Id, dtype: float64"
      ]
     },
     "execution_count": 141,
     "metadata": {},
     "output_type": "execute_result"
    }
   ],
   "source": [
    "df['Id'] = pd.to_numeric(df['Id'])\n",
    "df['Id'].describe()"
   ]
  },
  {
   "cell_type": "code",
   "execution_count": 142,
   "metadata": {},
   "outputs": [
    {
     "name": "stdout",
     "output_type": "stream",
     "text": [
      "<class 'pandas.core.frame.DataFrame'>\n",
      "RangeIndex: 149999 entries, 0 to 149998\n",
      "Data columns (total 14 columns):\n",
      " #   Column             Non-Null Count   Dtype         \n",
      "---  ------             --------------   -----         \n",
      " 0   Id                 149999 non-null  int64         \n",
      " 1   Title              149999 non-null  object        \n",
      " 2   Company            144237 non-null  object        \n",
      " 3   Date               149999 non-null  datetime64[ns]\n",
      " 4   Location           149999 non-null  object        \n",
      " 5   Area               93496 non-null   object        \n",
      " 6   Classification     149999 non-null  object        \n",
      " 7   SubClassification  149999 non-null  object        \n",
      " 8   Requirement        149999 non-null  object        \n",
      " 9   FullDescription    146717 non-null  object        \n",
      " 10  LowestSalary       149999 non-null  int64         \n",
      " 11  HighestSalary      149999 non-null  int64         \n",
      " 12  JobType            146766 non-null  object        \n",
      " 13  AverageSalary      149999 non-null  float64       \n",
      "dtypes: datetime64[ns](1), float64(1), int64(3), object(9)\n",
      "memory usage: 16.0+ MB\n"
     ]
    }
   ],
   "source": [
    "df['Date'] = pd.to_datetime(df['Date'])\n",
    "df.info()"
   ]
  },
  {
   "cell_type": "code",
   "execution_count": 143,
   "metadata": {},
   "outputs": [
    {
     "data": {
      "text/plain": [
       "0"
      ]
     },
     "execution_count": 143,
     "metadata": {},
     "output_type": "execute_result"
    }
   ],
   "source": [
    "duplicates = df[df.duplicated()]\n",
    "len(duplicates)"
   ]
  },
  {
   "cell_type": "code",
   "execution_count": 144,
   "metadata": {},
   "outputs": [
    {
     "data": {
      "text/plain": [
       "611"
      ]
     },
     "execution_count": 144,
     "metadata": {},
     "output_type": "execute_result"
    }
   ],
   "source": [
    "dupNoId = df[df.duplicated(['Title', 'Company', 'Date', 'Location', 'Area', 'Classification',\n",
    "       'SubClassification', 'Requirement', 'FullDescription', 'LowestSalary',\n",
    "       'HighestSalary', 'JobType', 'AverageSalary'])]\n",
    "len(dupNoId)"
   ]
  },
  {
   "cell_type": "code",
   "execution_count": 145,
   "metadata": {},
   "outputs": [
    {
     "name": "stdout",
     "output_type": "stream",
     "text": [
      "<class 'pandas.core.frame.DataFrame'>\n",
      "Int64Index: 149388 entries, 0 to 149998\n",
      "Data columns (total 14 columns):\n",
      " #   Column             Non-Null Count   Dtype         \n",
      "---  ------             --------------   -----         \n",
      " 0   Id                 149388 non-null  int64         \n",
      " 1   Title              149388 non-null  object        \n",
      " 2   Company            143628 non-null  object        \n",
      " 3   Date               149388 non-null  datetime64[ns]\n",
      " 4   Location           149388 non-null  object        \n",
      " 5   Area               93156 non-null   object        \n",
      " 6   Classification     149388 non-null  object        \n",
      " 7   SubClassification  149388 non-null  object        \n",
      " 8   Requirement        149388 non-null  object        \n",
      " 9   FullDescription    146124 non-null  object        \n",
      " 10  LowestSalary       149388 non-null  int64         \n",
      " 11  HighestSalary      149388 non-null  int64         \n",
      " 12  JobType            146173 non-null  object        \n",
      " 13  AverageSalary      149388 non-null  float64       \n",
      "dtypes: datetime64[ns](1), float64(1), int64(3), object(9)\n",
      "memory usage: 17.1+ MB\n"
     ]
    }
   ],
   "source": [
    "df.drop_duplicates(subset=['Title', 'Company', 'Date', 'Location', 'Area', 'Classification',\n",
    "       'SubClassification', 'Requirement', 'FullDescription', 'LowestSalary',\n",
    "       'HighestSalary', 'JobType', 'AverageSalary'], keep = 'first', inplace = True)\n",
    "df.info()"
   ]
  },
  {
   "cell_type": "code",
   "execution_count": 146,
   "metadata": {},
   "outputs": [
    {
     "data": {
      "text/html": [
       "<div>\n",
       "<style scoped>\n",
       "    .dataframe tbody tr th:only-of-type {\n",
       "        vertical-align: middle;\n",
       "    }\n",
       "\n",
       "    .dataframe tbody tr th {\n",
       "        vertical-align: top;\n",
       "    }\n",
       "\n",
       "    .dataframe thead th {\n",
       "        text-align: right;\n",
       "    }\n",
       "</style>\n",
       "<table border=\"1\" class=\"dataframe\">\n",
       "  <thead>\n",
       "    <tr style=\"text-align: right;\">\n",
       "      <th></th>\n",
       "      <th>Id</th>\n",
       "      <th>Title</th>\n",
       "      <th>Company</th>\n",
       "      <th>Date</th>\n",
       "      <th>Location</th>\n",
       "      <th>Area</th>\n",
       "      <th>Classification</th>\n",
       "      <th>SubClassification</th>\n",
       "      <th>Requirement</th>\n",
       "      <th>FullDescription</th>\n",
       "      <th>LowestSalary</th>\n",
       "      <th>HighestSalary</th>\n",
       "      <th>JobType</th>\n",
       "      <th>AverageSalary</th>\n",
       "    </tr>\n",
       "  </thead>\n",
       "  <tbody>\n",
       "    <tr>\n",
       "      <th>1837</th>\n",
       "      <td>37402347</td>\n",
       "      <td>Senior SAP HR Functional Analyst</td>\n",
       "      <td>Queensland Rail</td>\n",
       "      <td>2018-10-05</td>\n",
       "      <td>Brisbane</td>\n",
       "      <td>CBD &amp; Inner Suburbs</td>\n",
       "      <td>Government &amp; Defence</td>\n",
       "      <td>Government - State</td>\n",
       "      <td>We currently have an exciting opportunity for ...</td>\n",
       "      <td>&lt;p&gt;We are a large and fully integrated infrast...</td>\n",
       "      <td>0</td>\n",
       "      <td>30</td>\n",
       "      <td>Contract/Temp</td>\n",
       "      <td>15.0</td>\n",
       "    </tr>\n",
       "    <tr>\n",
       "      <th>2892</th>\n",
       "      <td>37401116</td>\n",
       "      <td>Diesel Fitter | Lifestyle Roster</td>\n",
       "      <td>Hays Resources &amp; Mining</td>\n",
       "      <td>2018-10-05</td>\n",
       "      <td>Rockhampton &amp; Capricorn Coast</td>\n",
       "      <td>NaN</td>\n",
       "      <td>Mining, Resources &amp; Energy</td>\n",
       "      <td>Mining - Engineering &amp; Maintenance</td>\n",
       "      <td>Experienced Mine Site Diesel Fitter Job requir...</td>\n",
       "      <td>&lt;p&gt;Experienced Mine Site Diesel Fitter Job req...</td>\n",
       "      <td>0</td>\n",
       "      <td>30</td>\n",
       "      <td>Contract/Temp</td>\n",
       "      <td>15.0</td>\n",
       "    </tr>\n",
       "    <tr>\n",
       "      <th>4097</th>\n",
       "      <td>37394554</td>\n",
       "      <td>Aboriginal and Torres Strait Islander (ATSI) T...</td>\n",
       "      <td>Federation University Australia</td>\n",
       "      <td>2018-10-04</td>\n",
       "      <td>Ballarat &amp; Central Highlands</td>\n",
       "      <td>NaN</td>\n",
       "      <td>Education &amp; Training</td>\n",
       "      <td>Other</td>\n",
       "      <td>-\\tFull-time, fixed-term appointment in Ballar...</td>\n",
       "      <td>&lt;p&gt;&lt;strong&gt;Human Resources – SMB Campus&lt;/stron...</td>\n",
       "      <td>30</td>\n",
       "      <td>40</td>\n",
       "      <td>Full Time</td>\n",
       "      <td>35.0</td>\n",
       "    </tr>\n",
       "    <tr>\n",
       "      <th>4465</th>\n",
       "      <td>37322096</td>\n",
       "      <td>TELSTRA | Sales Consultant | DO YOU WANT YOUR ...</td>\n",
       "      <td>TSA Group</td>\n",
       "      <td>2018-10-04</td>\n",
       "      <td>Melbourne</td>\n",
       "      <td>Eastern Suburbs</td>\n",
       "      <td>Sales</td>\n",
       "      <td>Sales Representatives/Consultants</td>\n",
       "      <td>Outbound Sales to Current customers, contactin...</td>\n",
       "      <td>&lt;p&gt;&lt;strong&gt;&lt;em&gt;Our Company:&lt;/em&gt;&lt;/strong&gt;&lt;/p&gt;\\...</td>\n",
       "      <td>30</td>\n",
       "      <td>40</td>\n",
       "      <td>Full Time</td>\n",
       "      <td>35.0</td>\n",
       "    </tr>\n",
       "    <tr>\n",
       "      <th>5878</th>\n",
       "      <td>37398630</td>\n",
       "      <td>Claims Consultant - Lodgement</td>\n",
       "      <td>Hays Talent Solutions</td>\n",
       "      <td>2018-10-05</td>\n",
       "      <td>Sydney</td>\n",
       "      <td>Parramatta &amp; Western Suburbs</td>\n",
       "      <td>Hospitality &amp; Tourism</td>\n",
       "      <td>Waiting Staff</td>\n",
       "      <td>Inbound call centre role, you will be the firs...</td>\n",
       "      <td>NaN</td>\n",
       "      <td>40</td>\n",
       "      <td>50</td>\n",
       "      <td>NaN</td>\n",
       "      <td>45.0</td>\n",
       "    </tr>\n",
       "    <tr>\n",
       "      <th>...</th>\n",
       "      <td>...</td>\n",
       "      <td>...</td>\n",
       "      <td>...</td>\n",
       "      <td>...</td>\n",
       "      <td>...</td>\n",
       "      <td>...</td>\n",
       "      <td>...</td>\n",
       "      <td>...</td>\n",
       "      <td>...</td>\n",
       "      <td>...</td>\n",
       "      <td>...</td>\n",
       "      <td>...</td>\n",
       "      <td>...</td>\n",
       "      <td>...</td>\n",
       "    </tr>\n",
       "    <tr>\n",
       "      <th>148889</th>\n",
       "      <td>37696707</td>\n",
       "      <td>Motor Assessor</td>\n",
       "      <td>Hays Talent Solutions</td>\n",
       "      <td>2018-11-12</td>\n",
       "      <td>Sydney</td>\n",
       "      <td>CBD, Inner West &amp; Eastern Suburbs</td>\n",
       "      <td>Insurance &amp; Superannuation</td>\n",
       "      <td>Assessment</td>\n",
       "      <td>Working as a Motor Assessor on automotive clai...</td>\n",
       "      <td>&lt;p&gt;&lt;strong&gt;#Closer #Braver #Faster&lt;/strong&gt;&lt;/p...</td>\n",
       "      <td>70</td>\n",
       "      <td>80</td>\n",
       "      <td>Full Time</td>\n",
       "      <td>75.0</td>\n",
       "    </tr>\n",
       "    <tr>\n",
       "      <th>149106</th>\n",
       "      <td>37710595</td>\n",
       "      <td>Motor Assessor</td>\n",
       "      <td>Hays Talent Solutions</td>\n",
       "      <td>2018-11-13</td>\n",
       "      <td>Sydney</td>\n",
       "      <td>CBD, Inner West &amp; Eastern Suburbs</td>\n",
       "      <td>Insurance &amp; Superannuation</td>\n",
       "      <td>Assessment</td>\n",
       "      <td>Working as a Motor Assessor on automotive clai...</td>\n",
       "      <td>&lt;p&gt;&lt;strong&gt;#Closer #Braver #Faster&lt;/strong&gt;&lt;/p...</td>\n",
       "      <td>0</td>\n",
       "      <td>30</td>\n",
       "      <td>Full Time</td>\n",
       "      <td>15.0</td>\n",
       "    </tr>\n",
       "    <tr>\n",
       "      <th>149511</th>\n",
       "      <td>37709880</td>\n",
       "      <td>Retail Assistant</td>\n",
       "      <td>Aldi Stores</td>\n",
       "      <td>2018-11-13</td>\n",
       "      <td>Blue Mountains &amp; Central West</td>\n",
       "      <td>NaN</td>\n",
       "      <td>Retail &amp; Consumer Products</td>\n",
       "      <td>Retail Assistants</td>\n",
       "      <td>Whether they’re racing to fill shelves or scan...</td>\n",
       "      <td>&lt;p&gt;&lt;strong&gt;At ALDI, our people are the key to ...</td>\n",
       "      <td>0</td>\n",
       "      <td>30</td>\n",
       "      <td>Part Time</td>\n",
       "      <td>15.0</td>\n",
       "    </tr>\n",
       "    <tr>\n",
       "      <th>149720</th>\n",
       "      <td>37709615</td>\n",
       "      <td>HR Manager / HR Business Partner</td>\n",
       "      <td>Frazer Jones</td>\n",
       "      <td>2018-11-13</td>\n",
       "      <td>Melbourne</td>\n",
       "      <td>CBD &amp; Inner Suburbs</td>\n",
       "      <td>Human Resources &amp; Recruitment</td>\n",
       "      <td>Consulting &amp; Generalist HR</td>\n",
       "      <td>Partnering with specific client group of fee-e...</td>\n",
       "      <td>&lt;p&gt;Join this Global Professional Services Firm...</td>\n",
       "      <td>0</td>\n",
       "      <td>30</td>\n",
       "      <td>Contract/Temp</td>\n",
       "      <td>15.0</td>\n",
       "    </tr>\n",
       "    <tr>\n",
       "      <th>149808</th>\n",
       "      <td>37709520</td>\n",
       "      <td>Manager City Strategy &amp; Design</td>\n",
       "      <td>NaN</td>\n",
       "      <td>2018-11-13</td>\n",
       "      <td>Melbourne</td>\n",
       "      <td>Northern Suburbs</td>\n",
       "      <td>Government &amp; Defence</td>\n",
       "      <td>Government - Local</td>\n",
       "      <td>Planning, Urban Design, Policy</td>\n",
       "      <td>&lt;strong&gt;Coburg Civic Centre, 90 Bell Street Co...</td>\n",
       "      <td>0</td>\n",
       "      <td>30</td>\n",
       "      <td>Full Time</td>\n",
       "      <td>15.0</td>\n",
       "    </tr>\n",
       "  </tbody>\n",
       "</table>\n",
       "<p>611 rows × 14 columns</p>\n",
       "</div>"
      ],
      "text/plain": [
       "              Id                                              Title  \\\n",
       "1837    37402347                   Senior SAP HR Functional Analyst   \n",
       "2892    37401116                  Diesel Fitter | Lifestyle Roster    \n",
       "4097    37394554  Aboriginal and Torres Strait Islander (ATSI) T...   \n",
       "4465    37322096  TELSTRA | Sales Consultant | DO YOU WANT YOUR ...   \n",
       "5878    37398630                      Claims Consultant - Lodgement   \n",
       "...          ...                                                ...   \n",
       "148889  37696707                                     Motor Assessor   \n",
       "149106  37710595                                     Motor Assessor   \n",
       "149511  37709880                                   Retail Assistant   \n",
       "149720  37709615                  HR Manager / HR Business Partner    \n",
       "149808  37709520                     Manager City Strategy & Design   \n",
       "\n",
       "                                Company       Date  \\\n",
       "1837                    Queensland Rail 2018-10-05   \n",
       "2892            Hays Resources & Mining 2018-10-05   \n",
       "4097    Federation University Australia 2018-10-04   \n",
       "4465                          TSA Group 2018-10-04   \n",
       "5878              Hays Talent Solutions 2018-10-05   \n",
       "...                                 ...        ...   \n",
       "148889            Hays Talent Solutions 2018-11-12   \n",
       "149106            Hays Talent Solutions 2018-11-13   \n",
       "149511                      Aldi Stores 2018-11-13   \n",
       "149720                     Frazer Jones 2018-11-13   \n",
       "149808                              NaN 2018-11-13   \n",
       "\n",
       "                             Location                               Area  \\\n",
       "1837                         Brisbane                CBD & Inner Suburbs   \n",
       "2892    Rockhampton & Capricorn Coast                                NaN   \n",
       "4097     Ballarat & Central Highlands                                NaN   \n",
       "4465                        Melbourne                    Eastern Suburbs   \n",
       "5878                           Sydney       Parramatta & Western Suburbs   \n",
       "...                               ...                                ...   \n",
       "148889                         Sydney  CBD, Inner West & Eastern Suburbs   \n",
       "149106                         Sydney  CBD, Inner West & Eastern Suburbs   \n",
       "149511  Blue Mountains & Central West                                NaN   \n",
       "149720                      Melbourne                CBD & Inner Suburbs   \n",
       "149808                      Melbourne                   Northern Suburbs   \n",
       "\n",
       "                       Classification                   SubClassification  \\\n",
       "1837             Government & Defence                  Government - State   \n",
       "2892       Mining, Resources & Energy  Mining - Engineering & Maintenance   \n",
       "4097             Education & Training                               Other   \n",
       "4465                            Sales   Sales Representatives/Consultants   \n",
       "5878            Hospitality & Tourism                       Waiting Staff   \n",
       "...                               ...                                 ...   \n",
       "148889     Insurance & Superannuation                          Assessment   \n",
       "149106     Insurance & Superannuation                          Assessment   \n",
       "149511     Retail & Consumer Products                   Retail Assistants   \n",
       "149720  Human Resources & Recruitment          Consulting & Generalist HR   \n",
       "149808           Government & Defence                  Government - Local   \n",
       "\n",
       "                                              Requirement  \\\n",
       "1837    We currently have an exciting opportunity for ...   \n",
       "2892    Experienced Mine Site Diesel Fitter Job requir...   \n",
       "4097    -\\tFull-time, fixed-term appointment in Ballar...   \n",
       "4465    Outbound Sales to Current customers, contactin...   \n",
       "5878    Inbound call centre role, you will be the firs...   \n",
       "...                                                   ...   \n",
       "148889  Working as a Motor Assessor on automotive clai...   \n",
       "149106  Working as a Motor Assessor on automotive clai...   \n",
       "149511  Whether they’re racing to fill shelves or scan...   \n",
       "149720  Partnering with specific client group of fee-e...   \n",
       "149808                     Planning, Urban Design, Policy   \n",
       "\n",
       "                                          FullDescription  LowestSalary  \\\n",
       "1837    <p>We are a large and fully integrated infrast...             0   \n",
       "2892    <p>Experienced Mine Site Diesel Fitter Job req...             0   \n",
       "4097    <p><strong>Human Resources – SMB Campus</stron...            30   \n",
       "4465    <p><strong><em>Our Company:</em></strong></p>\\...            30   \n",
       "5878                                                  NaN            40   \n",
       "...                                                   ...           ...   \n",
       "148889  <p><strong>#Closer #Braver #Faster</strong></p...            70   \n",
       "149106  <p><strong>#Closer #Braver #Faster</strong></p...             0   \n",
       "149511  <p><strong>At ALDI, our people are the key to ...             0   \n",
       "149720  <p>Join this Global Professional Services Firm...             0   \n",
       "149808  <strong>Coburg Civic Centre, 90 Bell Street Co...             0   \n",
       "\n",
       "        HighestSalary        JobType  AverageSalary  \n",
       "1837               30  Contract/Temp           15.0  \n",
       "2892               30  Contract/Temp           15.0  \n",
       "4097               40      Full Time           35.0  \n",
       "4465               40      Full Time           35.0  \n",
       "5878               50            NaN           45.0  \n",
       "...               ...            ...            ...  \n",
       "148889             80      Full Time           75.0  \n",
       "149106             30      Full Time           15.0  \n",
       "149511             30      Part Time           15.0  \n",
       "149720             30  Contract/Temp           15.0  \n",
       "149808             30      Full Time           15.0  \n",
       "\n",
       "[611 rows x 14 columns]"
      ]
     },
     "execution_count": 146,
     "metadata": {},
     "output_type": "execute_result"
    }
   ],
   "source": [
    "dupNoId"
   ]
  },
  {
   "cell_type": "code",
   "execution_count": 147,
   "metadata": {},
   "outputs": [
    {
     "data": {
      "text/html": [
       "<div>\n",
       "<style scoped>\n",
       "    .dataframe tbody tr th:only-of-type {\n",
       "        vertical-align: middle;\n",
       "    }\n",
       "\n",
       "    .dataframe tbody tr th {\n",
       "        vertical-align: top;\n",
       "    }\n",
       "\n",
       "    .dataframe thead th {\n",
       "        text-align: right;\n",
       "    }\n",
       "</style>\n",
       "<table border=\"1\" class=\"dataframe\">\n",
       "  <thead>\n",
       "    <tr style=\"text-align: right;\">\n",
       "      <th></th>\n",
       "      <th>Id</th>\n",
       "      <th>Title</th>\n",
       "      <th>Company</th>\n",
       "      <th>Date</th>\n",
       "      <th>Location</th>\n",
       "      <th>Area</th>\n",
       "      <th>Classification</th>\n",
       "      <th>SubClassification</th>\n",
       "      <th>Requirement</th>\n",
       "      <th>FullDescription</th>\n",
       "      <th>LowestSalary</th>\n",
       "      <th>HighestSalary</th>\n",
       "      <th>JobType</th>\n",
       "      <th>AverageSalary</th>\n",
       "    </tr>\n",
       "  </thead>\n",
       "  <tbody>\n",
       "    <tr>\n",
       "      <th>0</th>\n",
       "      <td>37404348</td>\n",
       "      <td>Casual Stock Replenisher</td>\n",
       "      <td>Aldi Stores</td>\n",
       "      <td>2018-10-07</td>\n",
       "      <td>Sydney</td>\n",
       "      <td>North West &amp; Hills District</td>\n",
       "      <td>Retail &amp; Consumer Products</td>\n",
       "      <td>Retail Assistants</td>\n",
       "      <td>Our Casual Stock Replenishers pride themselves...</td>\n",
       "      <td>NaN</td>\n",
       "      <td>0</td>\n",
       "      <td>30</td>\n",
       "      <td>NaN</td>\n",
       "      <td>15.0</td>\n",
       "    </tr>\n",
       "    <tr>\n",
       "      <th>1</th>\n",
       "      <td>37404337</td>\n",
       "      <td>Casual Stock Replenisher</td>\n",
       "      <td>Aldi Stores</td>\n",
       "      <td>2018-10-07</td>\n",
       "      <td>Richmond &amp; Hawkesbury</td>\n",
       "      <td>NaN</td>\n",
       "      <td>Retail &amp; Consumer Products</td>\n",
       "      <td>Retail Assistants</td>\n",
       "      <td>Our Casual Stock Replenishers pride themselves...</td>\n",
       "      <td>NaN</td>\n",
       "      <td>0</td>\n",
       "      <td>30</td>\n",
       "      <td>NaN</td>\n",
       "      <td>15.0</td>\n",
       "    </tr>\n",
       "    <tr>\n",
       "      <th>2</th>\n",
       "      <td>37404356</td>\n",
       "      <td>RETAIL SALES SUPERSTARS and STYLISTS Wanted - ...</td>\n",
       "      <td>LB Creative Pty Ltd</td>\n",
       "      <td>2018-10-07</td>\n",
       "      <td>Brisbane</td>\n",
       "      <td>CBD &amp; Inner Suburbs</td>\n",
       "      <td>Retail &amp; Consumer Products</td>\n",
       "      <td>Retail Assistants</td>\n",
       "      <td>BRAND NEW FLAGSHIP STORE OPENING - SUNSHINE PLAZA</td>\n",
       "      <td>NaN</td>\n",
       "      <td>0</td>\n",
       "      <td>30</td>\n",
       "      <td>NaN</td>\n",
       "      <td>15.0</td>\n",
       "    </tr>\n",
       "    <tr>\n",
       "      <th>3</th>\n",
       "      <td>37404330</td>\n",
       "      <td>Team member - Belrose</td>\n",
       "      <td>Anaconda Group Pty Ltd</td>\n",
       "      <td>2018-10-07</td>\n",
       "      <td>Gosford &amp; Central Coast</td>\n",
       "      <td>NaN</td>\n",
       "      <td>Retail &amp; Consumer Products</td>\n",
       "      <td>Retail Assistants</td>\n",
       "      <td>Bring it on - do you love the great outdoors a...</td>\n",
       "      <td>NaN</td>\n",
       "      <td>0</td>\n",
       "      <td>30</td>\n",
       "      <td>NaN</td>\n",
       "      <td>15.0</td>\n",
       "    </tr>\n",
       "    <tr>\n",
       "      <th>4</th>\n",
       "      <td>37404308</td>\n",
       "      <td>Business Banking Contact Centre Specialist, Ni...</td>\n",
       "      <td>Commonwealth Bank - Business &amp; Private Banking</td>\n",
       "      <td>2018-10-07</td>\n",
       "      <td>Sydney</td>\n",
       "      <td>Ryde &amp; Macquarie Park</td>\n",
       "      <td>Call Centre &amp; Customer Service</td>\n",
       "      <td>Sales - Inbound</td>\n",
       "      <td>We are seeking highly articulate, enthusiastic...</td>\n",
       "      <td>NaN</td>\n",
       "      <td>0</td>\n",
       "      <td>30</td>\n",
       "      <td>NaN</td>\n",
       "      <td>15.0</td>\n",
       "    </tr>\n",
       "    <tr>\n",
       "      <th>...</th>\n",
       "      <td>...</td>\n",
       "      <td>...</td>\n",
       "      <td>...</td>\n",
       "      <td>...</td>\n",
       "      <td>...</td>\n",
       "      <td>...</td>\n",
       "      <td>...</td>\n",
       "      <td>...</td>\n",
       "      <td>...</td>\n",
       "      <td>...</td>\n",
       "      <td>...</td>\n",
       "      <td>...</td>\n",
       "      <td>...</td>\n",
       "      <td>...</td>\n",
       "    </tr>\n",
       "    <tr>\n",
       "      <th>149994</th>\n",
       "      <td>37709314</td>\n",
       "      <td>Dance Studio Coordinator</td>\n",
       "      <td>Grace Lutheran College</td>\n",
       "      <td>2018-11-13</td>\n",
       "      <td>Brisbane</td>\n",
       "      <td>Northern Suburbs</td>\n",
       "      <td>Education &amp; Training</td>\n",
       "      <td>Management - Schools</td>\n",
       "      <td>Grace has a highly-regarded and active Perform...</td>\n",
       "      <td>&lt;p&gt;Grace has a highly-regarded and active Perf...</td>\n",
       "      <td>0</td>\n",
       "      <td>30</td>\n",
       "      <td>Part Time</td>\n",
       "      <td>15.0</td>\n",
       "    </tr>\n",
       "    <tr>\n",
       "      <th>149995</th>\n",
       "      <td>37709313</td>\n",
       "      <td>Geology Technician</td>\n",
       "      <td>Saracen Gold Mines Pty Ltd</td>\n",
       "      <td>2018-11-13</td>\n",
       "      <td>Kalgoorlie, Goldfields &amp; Esperance</td>\n",
       "      <td>NaN</td>\n",
       "      <td>Mining, Resources &amp; Energy</td>\n",
       "      <td>Mining - Exploration &amp; Geoscience</td>\n",
       "      <td>Due to an increase in our Exploration budget, ...</td>\n",
       "      <td>&lt;p style=\"text-align:justify;\"&gt;Saracen Mineral...</td>\n",
       "      <td>0</td>\n",
       "      <td>30</td>\n",
       "      <td>Full Time</td>\n",
       "      <td>15.0</td>\n",
       "    </tr>\n",
       "    <tr>\n",
       "      <th>149996</th>\n",
       "      <td>37709312</td>\n",
       "      <td>Lead Product Manager UX/UI</td>\n",
       "      <td>Opus Recruitment Solutions</td>\n",
       "      <td>2018-11-13</td>\n",
       "      <td>Melbourne</td>\n",
       "      <td>CBD &amp; Inner Suburbs</td>\n",
       "      <td>Design &amp; Architecture</td>\n",
       "      <td>Graphic Design</td>\n",
       "      <td>Senior Lead Product Manager | UX/UI | Payment/...</td>\n",
       "      <td>One Australia’s leading online payments platfo...</td>\n",
       "      <td>0</td>\n",
       "      <td>30</td>\n",
       "      <td>Full Time</td>\n",
       "      <td>15.0</td>\n",
       "    </tr>\n",
       "    <tr>\n",
       "      <th>149997</th>\n",
       "      <td>37709253</td>\n",
       "      <td>Junior Primary Teacher</td>\n",
       "      <td>Covenant Christian School (ACT)</td>\n",
       "      <td>2018-11-13</td>\n",
       "      <td>ACT</td>\n",
       "      <td>NaN</td>\n",
       "      <td>Education &amp; Training</td>\n",
       "      <td>Teaching - Primary</td>\n",
       "      <td>Junior Primary teacher to take a small single ...</td>\n",
       "      <td>&lt;p&gt;&lt;strong&gt;Junior Primary Teacher (part time o...</td>\n",
       "      <td>0</td>\n",
       "      <td>30</td>\n",
       "      <td>Full Time</td>\n",
       "      <td>15.0</td>\n",
       "    </tr>\n",
       "    <tr>\n",
       "      <th>149998</th>\n",
       "      <td>37709311</td>\n",
       "      <td>Network Engineer</td>\n",
       "      <td>Robert Half Technology</td>\n",
       "      <td>2018-11-13</td>\n",
       "      <td>Perth</td>\n",
       "      <td>CBD, Inner &amp; Western Suburbs</td>\n",
       "      <td>Information &amp; Communication Technology</td>\n",
       "      <td>Engineering - Network</td>\n",
       "      <td>Our client requires an experienced Network Eng...</td>\n",
       "      <td>&lt;ul&gt;\\n          &lt;li&gt;&lt;strong&gt;Permanent Position...</td>\n",
       "      <td>0</td>\n",
       "      <td>30</td>\n",
       "      <td>Full Time</td>\n",
       "      <td>15.0</td>\n",
       "    </tr>\n",
       "  </tbody>\n",
       "</table>\n",
       "<p>149388 rows × 14 columns</p>\n",
       "</div>"
      ],
      "text/plain": [
       "              Id                                              Title  \\\n",
       "0       37404348                           Casual Stock Replenisher   \n",
       "1       37404337                           Casual Stock Replenisher   \n",
       "2       37404356  RETAIL SALES SUPERSTARS and STYLISTS Wanted - ...   \n",
       "3       37404330                              Team member - Belrose   \n",
       "4       37404308  Business Banking Contact Centre Specialist, Ni...   \n",
       "...          ...                                                ...   \n",
       "149994  37709314                           Dance Studio Coordinator   \n",
       "149995  37709313                                 Geology Technician   \n",
       "149996  37709312                         Lead Product Manager UX/UI   \n",
       "149997  37709253                             Junior Primary Teacher   \n",
       "149998  37709311                                  Network Engineer    \n",
       "\n",
       "                                               Company       Date  \\\n",
       "0                                          Aldi Stores 2018-10-07   \n",
       "1                                          Aldi Stores 2018-10-07   \n",
       "2                                  LB Creative Pty Ltd 2018-10-07   \n",
       "3                               Anaconda Group Pty Ltd 2018-10-07   \n",
       "4       Commonwealth Bank - Business & Private Banking 2018-10-07   \n",
       "...                                                ...        ...   \n",
       "149994                          Grace Lutheran College 2018-11-13   \n",
       "149995                      Saracen Gold Mines Pty Ltd 2018-11-13   \n",
       "149996                      Opus Recruitment Solutions 2018-11-13   \n",
       "149997                 Covenant Christian School (ACT) 2018-11-13   \n",
       "149998                          Robert Half Technology 2018-11-13   \n",
       "\n",
       "                                  Location                          Area  \\\n",
       "0                                   Sydney   North West & Hills District   \n",
       "1                    Richmond & Hawkesbury                           NaN   \n",
       "2                                 Brisbane           CBD & Inner Suburbs   \n",
       "3                  Gosford & Central Coast                           NaN   \n",
       "4                                   Sydney         Ryde & Macquarie Park   \n",
       "...                                    ...                           ...   \n",
       "149994                            Brisbane              Northern Suburbs   \n",
       "149995  Kalgoorlie, Goldfields & Esperance                           NaN   \n",
       "149996                           Melbourne           CBD & Inner Suburbs   \n",
       "149997                                 ACT                           NaN   \n",
       "149998                               Perth  CBD, Inner & Western Suburbs   \n",
       "\n",
       "                                Classification  \\\n",
       "0                   Retail & Consumer Products   \n",
       "1                   Retail & Consumer Products   \n",
       "2                   Retail & Consumer Products   \n",
       "3                   Retail & Consumer Products   \n",
       "4               Call Centre & Customer Service   \n",
       "...                                        ...   \n",
       "149994                    Education & Training   \n",
       "149995              Mining, Resources & Energy   \n",
       "149996                   Design & Architecture   \n",
       "149997                    Education & Training   \n",
       "149998  Information & Communication Technology   \n",
       "\n",
       "                        SubClassification  \\\n",
       "0                       Retail Assistants   \n",
       "1                       Retail Assistants   \n",
       "2                       Retail Assistants   \n",
       "3                       Retail Assistants   \n",
       "4                         Sales - Inbound   \n",
       "...                                   ...   \n",
       "149994               Management - Schools   \n",
       "149995  Mining - Exploration & Geoscience   \n",
       "149996                     Graphic Design   \n",
       "149997                 Teaching - Primary   \n",
       "149998              Engineering - Network   \n",
       "\n",
       "                                              Requirement  \\\n",
       "0       Our Casual Stock Replenishers pride themselves...   \n",
       "1       Our Casual Stock Replenishers pride themselves...   \n",
       "2       BRAND NEW FLAGSHIP STORE OPENING - SUNSHINE PLAZA   \n",
       "3       Bring it on - do you love the great outdoors a...   \n",
       "4       We are seeking highly articulate, enthusiastic...   \n",
       "...                                                   ...   \n",
       "149994  Grace has a highly-regarded and active Perform...   \n",
       "149995  Due to an increase in our Exploration budget, ...   \n",
       "149996  Senior Lead Product Manager | UX/UI | Payment/...   \n",
       "149997  Junior Primary teacher to take a small single ...   \n",
       "149998  Our client requires an experienced Network Eng...   \n",
       "\n",
       "                                          FullDescription  LowestSalary  \\\n",
       "0                                                     NaN             0   \n",
       "1                                                     NaN             0   \n",
       "2                                                     NaN             0   \n",
       "3                                                     NaN             0   \n",
       "4                                                     NaN             0   \n",
       "...                                                   ...           ...   \n",
       "149994  <p>Grace has a highly-regarded and active Perf...             0   \n",
       "149995  <p style=\"text-align:justify;\">Saracen Mineral...             0   \n",
       "149996  One Australia’s leading online payments platfo...             0   \n",
       "149997  <p><strong>Junior Primary Teacher (part time o...             0   \n",
       "149998  <ul>\\n          <li><strong>Permanent Position...             0   \n",
       "\n",
       "        HighestSalary    JobType  AverageSalary  \n",
       "0                  30        NaN           15.0  \n",
       "1                  30        NaN           15.0  \n",
       "2                  30        NaN           15.0  \n",
       "3                  30        NaN           15.0  \n",
       "4                  30        NaN           15.0  \n",
       "...               ...        ...            ...  \n",
       "149994             30  Part Time           15.0  \n",
       "149995             30  Full Time           15.0  \n",
       "149996             30  Full Time           15.0  \n",
       "149997             30  Full Time           15.0  \n",
       "149998             30  Full Time           15.0  \n",
       "\n",
       "[149388 rows x 14 columns]"
      ]
     },
     "execution_count": 147,
     "metadata": {},
     "output_type": "execute_result"
    }
   ],
   "source": [
    "df"
   ]
  },
  {
   "cell_type": "code",
   "execution_count": 148,
   "metadata": {},
   "outputs": [],
   "source": [
    "\n",
    "\n",
    "#figure, axes = plt.subplots()\n",
    "#ax.barh(len(dupNoId), dupNoId, color='orange')\n",
    "#ax.barh(df.columns, width = len(df), align='right', color='blue')\n",
    "#plt.show()\n",
    "\n"
   ]
  },
  {
   "cell_type": "code",
   "execution_count": null,
   "metadata": {},
   "outputs": [],
   "source": []
  },
  {
   "cell_type": "code",
   "execution_count": null,
   "metadata": {},
   "outputs": [],
   "source": []
  },
  {
   "cell_type": "code",
   "execution_count": 149,
   "metadata": {},
   "outputs": [
    {
     "data": {
      "text/plain": [
       "15.0     27523\n",
       "45.0     17663\n",
       "65.0     14060\n",
       "110.0    12995\n",
       "75.0     12893\n",
       "55.0     12523\n",
       "90.0     12494\n",
       "35.0     12416\n",
       "175.0    11677\n",
       "135.0    10548\n",
       "225.0     4596\n",
       "Name: AverageSalary, dtype: int64"
      ]
     },
     "execution_count": 149,
     "metadata": {},
     "output_type": "execute_result"
    }
   ],
   "source": [
    "avSalCount = df['AverageSalary'].value_counts()\n",
    "avSalCount"
   ]
  },
  {
   "cell_type": "code",
   "execution_count": 150,
   "metadata": {},
   "outputs": [
    {
     "data": {
      "image/png": "[encoded data removed]",
      "text/plain": [
       "<Figure size 432x288 with 1 Axes>"
      ]
     },
     "metadata": {
      "needs_background": "light"
     },
     "output_type": "display_data"
    }
   ],
   "source": [
    "f1, ax1 = plt.subplots()\n",
    "avSalCount.plot(kind='bar')\n",
    "ax1.set_title('Job distribution by average salary')\n",
    "plt.xlabel('Average salary (1000s)')\n",
    "plt.ylabel('Count')\n",
    "f1.autofmt_xdate()\n",
    "plt.show()"
   ]
  },
  {
   "cell_type": "code",
   "execution_count": 151,
   "metadata": {},
   "outputs": [
    {
     "data": {
      "text/plain": [
       "Full Time          95989\n",
       "Contract/Temp      26142\n",
       "Casual/Vacation    13454\n",
       "Part Time          10588\n",
       "Name: JobType, dtype: int64"
      ]
     },
     "execution_count": 151,
     "metadata": {},
     "output_type": "execute_result"
    }
   ],
   "source": [
    "jobTypeCount = df['JobType'].value_counts()\n",
    "jobTypeCount"
   ]
  },
  {
   "cell_type": "code",
   "execution_count": 152,
   "metadata": {},
   "outputs": [
    {
     "data": {
      "image/png": "[encoded data removed]",
      "text/plain": [
       "<Figure size 432x288 with 1 Axes>"
      ]
     },
     "metadata": {},
     "output_type": "display_data"
    }
   ],
   "source": [
    "f2, ax2 = plt.subplots()\n",
    "ax2.pie(jobTypeCount, labels = jobTypeCount.index, autopct = '%1.1f%%')\n",
    "#jobTypeCount.plot(kind='pie')\n",
    "ax2.set_title('Job Posts by Job Type')\n",
    "plt.show()"
   ]
  },
  {
   "cell_type": "code",
   "execution_count": 153,
   "metadata": {},
   "outputs": [
    {
     "data": {
      "text/plain": [
       "149388"
      ]
     },
     "execution_count": 153,
     "metadata": {},
     "output_type": "execute_result"
    }
   ],
   "source": [
    "jobClassCount = df['Classification'].count()\n",
    "jobClassCount"
   ]
  },
  {
   "cell_type": "code",
   "execution_count": 154,
   "metadata": {},
   "outputs": [],
   "source": [
    "#3, a3 = plt.subplots()\n",
    "#obClassCount.plot(kind='bar')\n"
   ]
  },
  {
   "cell_type": "code",
   "execution_count": 155,
   "metadata": {},
   "outputs": [
    {
     "data": {
      "image/png": "[encoded data removed]",
      "text/plain": [
       "<Figure size 864x504 with 1 Axes>"
      ]
     },
     "metadata": {
      "needs_background": "light"
     },
     "output_type": "display_data"
    }
   ],
   "source": [
    "jobClassCount = df.groupby('Classification').count()\n",
    "jobClassCount['Label'] = jobClassCount.index\n",
    "jobClassCount['Count'] = jobClassCount['Id']\n",
    "jobClassCount = jobClassCount.sort_values(by=['Count'], ascending = False)\n",
    "\n",
    "plt.figure(figsize=(12,7))\n",
    "barChart = sns.barplot(y='Label', x='Count', data=jobClassCount, dodge=False)\n",
    "\n",
    "plt.title('Number of Jobs by Classification', {'fontsize': '16' })\n",
    "plt.xlabel('Number of Jobs')\n",
    "plt.ylabel('Classification')\n",
    "plt.show()"
   ]
  },
  {
   "cell_type": "code",
   "execution_count": 156,
   "metadata": {},
   "outputs": [
    {
     "data": {
      "text/html": [
       "<div>\n",
       "<style scoped>\n",
       "    .dataframe tbody tr th:only-of-type {\n",
       "        vertical-align: middle;\n",
       "    }\n",
       "\n",
       "    .dataframe tbody tr th {\n",
       "        vertical-align: top;\n",
       "    }\n",
       "\n",
       "    .dataframe thead th {\n",
       "        text-align: right;\n",
       "    }\n",
       "</style>\n",
       "<table border=\"1\" class=\"dataframe\">\n",
       "  <thead>\n",
       "    <tr style=\"text-align: right;\">\n",
       "      <th></th>\n",
       "      <th>Id</th>\n",
       "      <th>Title</th>\n",
       "      <th>Company</th>\n",
       "      <th>Date</th>\n",
       "      <th>Location</th>\n",
       "      <th>Area</th>\n",
       "      <th>Classification</th>\n",
       "      <th>SubClassification</th>\n",
       "      <th>Requirement</th>\n",
       "      <th>FullDescription</th>\n",
       "      <th>LowestSalary</th>\n",
       "      <th>HighestSalary</th>\n",
       "      <th>JobType</th>\n",
       "      <th>AverageSalary</th>\n",
       "    </tr>\n",
       "  </thead>\n",
       "  <tbody>\n",
       "    <tr>\n",
       "      <th>2</th>\n",
       "      <td>37404356</td>\n",
       "      <td>RETAIL SALES SUPERSTARS and STYLISTS Wanted - ...</td>\n",
       "      <td>LB Creative Pty Ltd</td>\n",
       "      <td>2018-10-07</td>\n",
       "      <td>Brisbane</td>\n",
       "      <td>CBD &amp; Inner Suburbs</td>\n",
       "      <td>Retail &amp; Consumer Products</td>\n",
       "      <td>Retail Assistants</td>\n",
       "      <td>BRAND NEW FLAGSHIP STORE OPENING - SUNSHINE PLAZA</td>\n",
       "      <td>NaN</td>\n",
       "      <td>0</td>\n",
       "      <td>30</td>\n",
       "      <td>NaN</td>\n",
       "      <td>15.0</td>\n",
       "    </tr>\n",
       "    <tr>\n",
       "      <th>7</th>\n",
       "      <td>37404350</td>\n",
       "      <td>Casual Café All-rounder in Woolloongabba</td>\n",
       "      <td>Jora Local</td>\n",
       "      <td>2018-10-07</td>\n",
       "      <td>Brisbane</td>\n",
       "      <td>CBD &amp; Inner Suburbs</td>\n",
       "      <td>Hospitality &amp; Tourism</td>\n",
       "      <td>Waiting Staff</td>\n",
       "      <td>A cafe in Woolloongabba is seeking a casual Ca...</td>\n",
       "      <td>NaN</td>\n",
       "      <td>0</td>\n",
       "      <td>30</td>\n",
       "      <td>NaN</td>\n",
       "      <td>15.0</td>\n",
       "    </tr>\n",
       "    <tr>\n",
       "      <th>21</th>\n",
       "      <td>37404239</td>\n",
       "      <td>Casual Barista in Murarrie</td>\n",
       "      <td>Jora Local</td>\n",
       "      <td>2018-10-07</td>\n",
       "      <td>Brisbane</td>\n",
       "      <td>CBD &amp; Inner Suburbs</td>\n",
       "      <td>Hospitality &amp; Tourism</td>\n",
       "      <td>Bar &amp; Beverage Staff</td>\n",
       "      <td>A cafe in Murarrie is seeking a casual Barista...</td>\n",
       "      <td>NaN</td>\n",
       "      <td>0</td>\n",
       "      <td>30</td>\n",
       "      <td>NaN</td>\n",
       "      <td>15.0</td>\n",
       "    </tr>\n",
       "    <tr>\n",
       "      <th>26</th>\n",
       "      <td>37404396</td>\n",
       "      <td>Clinical Document Processing and Quality Assur...</td>\n",
       "      <td>West Moreton Hospital and Health Service</td>\n",
       "      <td>2018-10-07</td>\n",
       "      <td>Brisbane</td>\n",
       "      <td>Western Suburbs &amp; Ipswich</td>\n",
       "      <td>Administration &amp; Office Support</td>\n",
       "      <td>Records Management &amp; Document Control</td>\n",
       "      <td>administrative and systems support in relation...</td>\n",
       "      <td>NaN</td>\n",
       "      <td>0</td>\n",
       "      <td>30</td>\n",
       "      <td>NaN</td>\n",
       "      <td>15.0</td>\n",
       "    </tr>\n",
       "    <tr>\n",
       "      <th>40</th>\n",
       "      <td>37404400</td>\n",
       "      <td>Project Officer</td>\n",
       "      <td>Metro South Health</td>\n",
       "      <td>2018-10-07</td>\n",
       "      <td>Brisbane</td>\n",
       "      <td>NaN</td>\n",
       "      <td>Administration &amp; Office Support</td>\n",
       "      <td>Other</td>\n",
       "      <td>Asset and Infrastructure Services are looking ...</td>\n",
       "      <td>NaN</td>\n",
       "      <td>0</td>\n",
       "      <td>30</td>\n",
       "      <td>NaN</td>\n",
       "      <td>15.0</td>\n",
       "    </tr>\n",
       "    <tr>\n",
       "      <th>...</th>\n",
       "      <td>...</td>\n",
       "      <td>...</td>\n",
       "      <td>...</td>\n",
       "      <td>...</td>\n",
       "      <td>...</td>\n",
       "      <td>...</td>\n",
       "      <td>...</td>\n",
       "      <td>...</td>\n",
       "      <td>...</td>\n",
       "      <td>...</td>\n",
       "      <td>...</td>\n",
       "      <td>...</td>\n",
       "      <td>...</td>\n",
       "      <td>...</td>\n",
       "    </tr>\n",
       "    <tr>\n",
       "      <th>149972</th>\n",
       "      <td>37709339</td>\n",
       "      <td>Recruitment Specialist | Healthcare | Brisbane...</td>\n",
       "      <td>Sugarman Australia</td>\n",
       "      <td>2018-11-13</td>\n",
       "      <td>Brisbane</td>\n",
       "      <td>CBD &amp; Inner Suburbs</td>\n",
       "      <td>Human Resources &amp; Recruitment</td>\n",
       "      <td>Recruitment - Agency</td>\n",
       "      <td>Uncapped commission scheme,First year OTE ( $9...</td>\n",
       "      <td>&lt;p&gt;&lt;strong&gt;Who is Sugarman Australia:&lt;/strong&gt;...</td>\n",
       "      <td>0</td>\n",
       "      <td>30</td>\n",
       "      <td>Full Time</td>\n",
       "      <td>15.0</td>\n",
       "    </tr>\n",
       "    <tr>\n",
       "      <th>149975</th>\n",
       "      <td>37709336</td>\n",
       "      <td>Contracts Administrator</td>\n",
       "      <td>Lendlease</td>\n",
       "      <td>2018-11-13</td>\n",
       "      <td>Brisbane</td>\n",
       "      <td>CBD &amp; Inner Suburbs</td>\n",
       "      <td>Construction</td>\n",
       "      <td>Contracts Management</td>\n",
       "      <td>Contracts Administrator required for upcoming ...</td>\n",
       "      <td>&lt;p style=\"text-align:justify;\"&gt;Currently we ha...</td>\n",
       "      <td>0</td>\n",
       "      <td>30</td>\n",
       "      <td>Full Time</td>\n",
       "      <td>15.0</td>\n",
       "    </tr>\n",
       "    <tr>\n",
       "      <th>149986</th>\n",
       "      <td>37709323</td>\n",
       "      <td>Senior Business Service Accountant | CBD | 2nd...</td>\n",
       "      <td>MW Recruitment</td>\n",
       "      <td>2018-11-13</td>\n",
       "      <td>Brisbane</td>\n",
       "      <td>CBD &amp; Inner Suburbs</td>\n",
       "      <td>Accounting</td>\n",
       "      <td>Business Services &amp; Corporate Advisory</td>\n",
       "      <td>Opportunity to work in a 2nd tier practice bas...</td>\n",
       "      <td>&lt;p style=\"text-align:justify;\"&gt;&lt;strong&gt;About t...</td>\n",
       "      <td>0</td>\n",
       "      <td>30</td>\n",
       "      <td>Full Time</td>\n",
       "      <td>15.0</td>\n",
       "    </tr>\n",
       "    <tr>\n",
       "      <th>149991</th>\n",
       "      <td>37709317</td>\n",
       "      <td>KITCHEN MANAGER</td>\n",
       "      <td>Fritzenberger</td>\n",
       "      <td>2018-11-13</td>\n",
       "      <td>Brisbane</td>\n",
       "      <td>CBD &amp; Inner Suburbs</td>\n",
       "      <td>Hospitality &amp; Tourism</td>\n",
       "      <td>Chefs/Cooks</td>\n",
       "      <td>Fritzenberger is looking for an energetic &amp; pa...</td>\n",
       "      <td>&lt;p&gt;&lt;strong&gt;BE A FRITZEN LEADER AT &lt;/strong&gt;&lt;st...</td>\n",
       "      <td>0</td>\n",
       "      <td>30</td>\n",
       "      <td>Full Time</td>\n",
       "      <td>15.0</td>\n",
       "    </tr>\n",
       "    <tr>\n",
       "      <th>149994</th>\n",
       "      <td>37709314</td>\n",
       "      <td>Dance Studio Coordinator</td>\n",
       "      <td>Grace Lutheran College</td>\n",
       "      <td>2018-11-13</td>\n",
       "      <td>Brisbane</td>\n",
       "      <td>Northern Suburbs</td>\n",
       "      <td>Education &amp; Training</td>\n",
       "      <td>Management - Schools</td>\n",
       "      <td>Grace has a highly-regarded and active Perform...</td>\n",
       "      <td>&lt;p&gt;Grace has a highly-regarded and active Perf...</td>\n",
       "      <td>0</td>\n",
       "      <td>30</td>\n",
       "      <td>Part Time</td>\n",
       "      <td>15.0</td>\n",
       "    </tr>\n",
       "  </tbody>\n",
       "</table>\n",
       "<p>16461 rows × 14 columns</p>\n",
       "</div>"
      ],
      "text/plain": [
       "              Id                                              Title  \\\n",
       "2       37404356  RETAIL SALES SUPERSTARS and STYLISTS Wanted - ...   \n",
       "7       37404350           Casual Café All-rounder in Woolloongabba   \n",
       "21      37404239                         Casual Barista in Murarrie   \n",
       "26      37404396  Clinical Document Processing and Quality Assur...   \n",
       "40      37404400                                    Project Officer   \n",
       "...          ...                                                ...   \n",
       "149972  37709339  Recruitment Specialist | Healthcare | Brisbane...   \n",
       "149975  37709336                            Contracts Administrator   \n",
       "149986  37709323  Senior Business Service Accountant | CBD | 2nd...   \n",
       "149991  37709317                                    KITCHEN MANAGER   \n",
       "149994  37709314                           Dance Studio Coordinator   \n",
       "\n",
       "                                         Company       Date  Location  \\\n",
       "2                            LB Creative Pty Ltd 2018-10-07  Brisbane   \n",
       "7                                     Jora Local 2018-10-07  Brisbane   \n",
       "21                                    Jora Local 2018-10-07  Brisbane   \n",
       "26      West Moreton Hospital and Health Service 2018-10-07  Brisbane   \n",
       "40                            Metro South Health 2018-10-07  Brisbane   \n",
       "...                                          ...        ...       ...   \n",
       "149972                        Sugarman Australia 2018-11-13  Brisbane   \n",
       "149975                                 Lendlease 2018-11-13  Brisbane   \n",
       "149986                            MW Recruitment 2018-11-13  Brisbane   \n",
       "149991                             Fritzenberger 2018-11-13  Brisbane   \n",
       "149994                    Grace Lutheran College 2018-11-13  Brisbane   \n",
       "\n",
       "                             Area                   Classification  \\\n",
       "2             CBD & Inner Suburbs       Retail & Consumer Products   \n",
       "7             CBD & Inner Suburbs            Hospitality & Tourism   \n",
       "21            CBD & Inner Suburbs            Hospitality & Tourism   \n",
       "26      Western Suburbs & Ipswich  Administration & Office Support   \n",
       "40                            NaN  Administration & Office Support   \n",
       "...                           ...                              ...   \n",
       "149972        CBD & Inner Suburbs    Human Resources & Recruitment   \n",
       "149975        CBD & Inner Suburbs                     Construction   \n",
       "149986        CBD & Inner Suburbs                       Accounting   \n",
       "149991        CBD & Inner Suburbs            Hospitality & Tourism   \n",
       "149994           Northern Suburbs             Education & Training   \n",
       "\n",
       "                             SubClassification  \\\n",
       "2                            Retail Assistants   \n",
       "7                                Waiting Staff   \n",
       "21                        Bar & Beverage Staff   \n",
       "26       Records Management & Document Control   \n",
       "40                                       Other   \n",
       "...                                        ...   \n",
       "149972                    Recruitment - Agency   \n",
       "149975                    Contracts Management   \n",
       "149986  Business Services & Corporate Advisory   \n",
       "149991                             Chefs/Cooks   \n",
       "149994                    Management - Schools   \n",
       "\n",
       "                                              Requirement  \\\n",
       "2       BRAND NEW FLAGSHIP STORE OPENING - SUNSHINE PLAZA   \n",
       "7       A cafe in Woolloongabba is seeking a casual Ca...   \n",
       "21      A cafe in Murarrie is seeking a casual Barista...   \n",
       "26      administrative and systems support in relation...   \n",
       "40      Asset and Infrastructure Services are looking ...   \n",
       "...                                                   ...   \n",
       "149972  Uncapped commission scheme,First year OTE ( $9...   \n",
       "149975  Contracts Administrator required for upcoming ...   \n",
       "149986  Opportunity to work in a 2nd tier practice bas...   \n",
       "149991  Fritzenberger is looking for an energetic & pa...   \n",
       "149994  Grace has a highly-regarded and active Perform...   \n",
       "\n",
       "                                          FullDescription  LowestSalary  \\\n",
       "2                                                     NaN             0   \n",
       "7                                                     NaN             0   \n",
       "21                                                    NaN             0   \n",
       "26                                                    NaN             0   \n",
       "40                                                    NaN             0   \n",
       "...                                                   ...           ...   \n",
       "149972  <p><strong>Who is Sugarman Australia:</strong>...             0   \n",
       "149975  <p style=\"text-align:justify;\">Currently we ha...             0   \n",
       "149986  <p style=\"text-align:justify;\"><strong>About t...             0   \n",
       "149991  <p><strong>BE A FRITZEN LEADER AT </strong><st...             0   \n",
       "149994  <p>Grace has a highly-regarded and active Perf...             0   \n",
       "\n",
       "        HighestSalary    JobType  AverageSalary  \n",
       "2                  30        NaN           15.0  \n",
       "7                  30        NaN           15.0  \n",
       "21                 30        NaN           15.0  \n",
       "26                 30        NaN           15.0  \n",
       "40                 30        NaN           15.0  \n",
       "...               ...        ...            ...  \n",
       "149972             30  Full Time           15.0  \n",
       "149975             30  Full Time           15.0  \n",
       "149986             30  Full Time           15.0  \n",
       "149991             30  Full Time           15.0  \n",
       "149994             30  Part Time           15.0  \n",
       "\n",
       "[16461 rows x 14 columns]"
      ]
     },
     "execution_count": 156,
     "metadata": {},
     "output_type": "execute_result"
    }
   ],
   "source": [
    "brisClass = df[df['Location'] == 'Brisbane']['Classification'].value_counts()\n",
    "bris"
   ]
  },
  {
   "cell_type": "code",
   "execution_count": 157,
   "metadata": {},
   "outputs": [
    {
     "ename": "ValueError",
     "evalue": "could not convert string to float: 'RETAIL SALES SUPERSTARS and STYLISTS Wanted - Womens Fashion - SUNSHINE PLAZA'",
     "output_type": "error",
     "traceback": [
      "\u001b[1;31m---------------------------------------------------------------------------\u001b[0m",
      "\u001b[1;31mValueError\u001b[0m                                Traceback (most recent call last)",
      "\u001b[1;32m<ipython-input-157-d2cf44d68a34>\u001b[0m in \u001b[0;36m<module>\u001b[1;34m\u001b[0m\n\u001b[0;32m      1\u001b[0m \u001b[0mf4\u001b[0m\u001b[1;33m,\u001b[0m \u001b[0max4\u001b[0m \u001b[1;33m=\u001b[0m \u001b[0mplt\u001b[0m\u001b[1;33m.\u001b[0m\u001b[0msubplots\u001b[0m\u001b[1;33m(\u001b[0m\u001b[1;36m1\u001b[0m\u001b[1;33m,\u001b[0m \u001b[1;36m1\u001b[0m\u001b[1;33m,\u001b[0m \u001b[0mfigsize\u001b[0m\u001b[1;33m=\u001b[0m\u001b[1;33m(\u001b[0m\u001b[1;36m30\u001b[0m\u001b[1;33m,\u001b[0m\u001b[1;36m30\u001b[0m\u001b[1;33m)\u001b[0m\u001b[1;33m)\u001b[0m\u001b[1;33m\u001b[0m\u001b[1;33m\u001b[0m\u001b[0m\n\u001b[1;32m----> 2\u001b[1;33m \u001b[0max4\u001b[0m\u001b[1;33m.\u001b[0m\u001b[0mpie\u001b[0m\u001b[1;33m(\u001b[0m\u001b[0mbris\u001b[0m\u001b[1;33m,\u001b[0m \u001b[0mlabels\u001b[0m \u001b[1;33m=\u001b[0m \u001b[0mbris\u001b[0m\u001b[1;33m.\u001b[0m\u001b[0mindex\u001b[0m\u001b[1;33m,\u001b[0m \u001b[0mautopct\u001b[0m \u001b[1;33m=\u001b[0m \u001b[1;34m'%1.1f%%'\u001b[0m\u001b[1;33m,\u001b[0m \u001b[0mtextprops\u001b[0m\u001b[1;33m=\u001b[0m\u001b[1;33m{\u001b[0m\u001b[1;34m'fontsize'\u001b[0m\u001b[1;33m:\u001b[0m\u001b[1;36m24\u001b[0m\u001b[1;33m}\u001b[0m\u001b[1;33m)\u001b[0m\u001b[1;33m\u001b[0m\u001b[1;33m\u001b[0m\u001b[0m\n\u001b[0m\u001b[0;32m      3\u001b[0m \u001b[0max4\u001b[0m\u001b[1;33m.\u001b[0m\u001b[0mset_title\u001b[0m\u001b[1;33m(\u001b[0m\u001b[1;34m'Brisbane Market Share'\u001b[0m\u001b[1;33m)\u001b[0m\u001b[1;33m\u001b[0m\u001b[1;33m\u001b[0m\u001b[0m\n\u001b[0;32m      4\u001b[0m \u001b[0mplt\u001b[0m\u001b[1;33m.\u001b[0m\u001b[0mshow\u001b[0m\u001b[1;33m(\u001b[0m\u001b[1;33m)\u001b[0m\u001b[1;33m\u001b[0m\u001b[1;33m\u001b[0m\u001b[0m\n",
      "\u001b[1;32m~\\anaconda3\\lib\\site-packages\\matplotlib\\__init__.py\u001b[0m in \u001b[0;36minner\u001b[1;34m(ax, data, *args, **kwargs)\u001b[0m\n\u001b[0;32m   1597\u001b[0m     \u001b[1;32mdef\u001b[0m \u001b[0minner\u001b[0m\u001b[1;33m(\u001b[0m\u001b[0max\u001b[0m\u001b[1;33m,\u001b[0m \u001b[1;33m*\u001b[0m\u001b[0margs\u001b[0m\u001b[1;33m,\u001b[0m \u001b[0mdata\u001b[0m\u001b[1;33m=\u001b[0m\u001b[1;32mNone\u001b[0m\u001b[1;33m,\u001b[0m \u001b[1;33m**\u001b[0m\u001b[0mkwargs\u001b[0m\u001b[1;33m)\u001b[0m\u001b[1;33m:\u001b[0m\u001b[1;33m\u001b[0m\u001b[1;33m\u001b[0m\u001b[0m\n\u001b[0;32m   1598\u001b[0m         \u001b[1;32mif\u001b[0m \u001b[0mdata\u001b[0m \u001b[1;32mis\u001b[0m \u001b[1;32mNone\u001b[0m\u001b[1;33m:\u001b[0m\u001b[1;33m\u001b[0m\u001b[1;33m\u001b[0m\u001b[0m\n\u001b[1;32m-> 1599\u001b[1;33m             \u001b[1;32mreturn\u001b[0m \u001b[0mfunc\u001b[0m\u001b[1;33m(\u001b[0m\u001b[0max\u001b[0m\u001b[1;33m,\u001b[0m \u001b[1;33m*\u001b[0m\u001b[0mmap\u001b[0m\u001b[1;33m(\u001b[0m\u001b[0msanitize_sequence\u001b[0m\u001b[1;33m,\u001b[0m \u001b[0margs\u001b[0m\u001b[1;33m)\u001b[0m\u001b[1;33m,\u001b[0m \u001b[1;33m**\u001b[0m\u001b[0mkwargs\u001b[0m\u001b[1;33m)\u001b[0m\u001b[1;33m\u001b[0m\u001b[1;33m\u001b[0m\u001b[0m\n\u001b[0m\u001b[0;32m   1600\u001b[0m \u001b[1;33m\u001b[0m\u001b[0m\n\u001b[0;32m   1601\u001b[0m         \u001b[0mbound\u001b[0m \u001b[1;33m=\u001b[0m \u001b[0mnew_sig\u001b[0m\u001b[1;33m.\u001b[0m\u001b[0mbind\u001b[0m\u001b[1;33m(\u001b[0m\u001b[0max\u001b[0m\u001b[1;33m,\u001b[0m \u001b[1;33m*\u001b[0m\u001b[0margs\u001b[0m\u001b[1;33m,\u001b[0m \u001b[1;33m**\u001b[0m\u001b[0mkwargs\u001b[0m\u001b[1;33m)\u001b[0m\u001b[1;33m\u001b[0m\u001b[1;33m\u001b[0m\u001b[0m\n",
      "\u001b[1;32m~\\anaconda3\\lib\\site-packages\\matplotlib\\axes\\_axes.py\u001b[0m in \u001b[0;36mpie\u001b[1;34m(self, x, explode, labels, colors, autopct, pctdistance, shadow, labeldistance, startangle, radius, counterclock, wedgeprops, textprops, center, frame, rotatelabels)\u001b[0m\n\u001b[0;32m   2963\u001b[0m         \u001b[1;31m# The use of float32 is \"historical\", but can't be changed without\u001b[0m\u001b[1;33m\u001b[0m\u001b[1;33m\u001b[0m\u001b[1;33m\u001b[0m\u001b[0m\n\u001b[0;32m   2964\u001b[0m         \u001b[1;31m# regenerating the test baselines.\u001b[0m\u001b[1;33m\u001b[0m\u001b[1;33m\u001b[0m\u001b[1;33m\u001b[0m\u001b[0m\n\u001b[1;32m-> 2965\u001b[1;33m         \u001b[0mx\u001b[0m \u001b[1;33m=\u001b[0m \u001b[0mnp\u001b[0m\u001b[1;33m.\u001b[0m\u001b[0masarray\u001b[0m\u001b[1;33m(\u001b[0m\u001b[0mx\u001b[0m\u001b[1;33m,\u001b[0m \u001b[0mnp\u001b[0m\u001b[1;33m.\u001b[0m\u001b[0mfloat32\u001b[0m\u001b[1;33m)\u001b[0m\u001b[1;33m\u001b[0m\u001b[1;33m\u001b[0m\u001b[0m\n\u001b[0m\u001b[0;32m   2966\u001b[0m         \u001b[1;32mif\u001b[0m \u001b[0mx\u001b[0m\u001b[1;33m.\u001b[0m\u001b[0mndim\u001b[0m \u001b[1;33m!=\u001b[0m \u001b[1;36m1\u001b[0m \u001b[1;32mand\u001b[0m \u001b[0mx\u001b[0m\u001b[1;33m.\u001b[0m\u001b[0msqueeze\u001b[0m\u001b[1;33m(\u001b[0m\u001b[1;33m)\u001b[0m\u001b[1;33m.\u001b[0m\u001b[0mndim\u001b[0m \u001b[1;33m<=\u001b[0m \u001b[1;36m1\u001b[0m\u001b[1;33m:\u001b[0m\u001b[1;33m\u001b[0m\u001b[1;33m\u001b[0m\u001b[0m\n\u001b[0;32m   2967\u001b[0m             cbook.warn_deprecated(\n",
      "\u001b[1;32m~\\anaconda3\\lib\\site-packages\\numpy\\core\\_asarray.py\u001b[0m in \u001b[0;36masarray\u001b[1;34m(a, dtype, order)\u001b[0m\n\u001b[0;32m     83\u001b[0m \u001b[1;33m\u001b[0m\u001b[0m\n\u001b[0;32m     84\u001b[0m     \"\"\"\n\u001b[1;32m---> 85\u001b[1;33m     \u001b[1;32mreturn\u001b[0m \u001b[0marray\u001b[0m\u001b[1;33m(\u001b[0m\u001b[0ma\u001b[0m\u001b[1;33m,\u001b[0m \u001b[0mdtype\u001b[0m\u001b[1;33m,\u001b[0m \u001b[0mcopy\u001b[0m\u001b[1;33m=\u001b[0m\u001b[1;32mFalse\u001b[0m\u001b[1;33m,\u001b[0m \u001b[0morder\u001b[0m\u001b[1;33m=\u001b[0m\u001b[0morder\u001b[0m\u001b[1;33m)\u001b[0m\u001b[1;33m\u001b[0m\u001b[1;33m\u001b[0m\u001b[0m\n\u001b[0m\u001b[0;32m     86\u001b[0m \u001b[1;33m\u001b[0m\u001b[0m\n\u001b[0;32m     87\u001b[0m \u001b[1;33m\u001b[0m\u001b[0m\n",
      "\u001b[1;31mValueError\u001b[0m: could not convert string to float: 'RETAIL SALES SUPERSTARS and STYLISTS Wanted - Womens Fashion - SUNSHINE PLAZA'"
     ]
    },
    {
     "data": {
      "image/png": "[encoded data removed]",
      "text/plain": [
       "<Figure size 2160x2160 with 1 Axes>"
      ]
     },
     "metadata": {
      "needs_background": "light"
     },
     "output_type": "display_data"
    }
   ],
   "source": [
    "f4, ax4 = plt.subplots(1, 1, figsize=(30,30))\n",
    "ax4.pie(bris, labels = bris.index, autopct = '%1.1f%%', textprops={'fontsize':24})\n",
    "ax4.set_title('Brisbane Market Share')\n",
    "plt.show()"
   ]
  },
  {
   "cell_type": "code",
   "execution_count": null,
   "metadata": {},
   "outputs": [],
   "source": [
    "ascCities = df.groupby('Location').count().sort_values('Id', ascending=False)\n",
    "top30 = ascCities.head(30).index\n",
    "top30"
   ]
  },
  {
   "cell_type": "code",
   "execution_count": null,
   "metadata": {},
   "outputs": [],
   "source": [
    "citySal = df.groupby('Location')['AverageSalary']"
   ]
  },
  {
   "cell_type": "code",
   "execution_count": null,
   "metadata": {},
   "outputs": [],
   "source": [
    "top30Info = []\n",
    "for city in top30:\n",
    "    top30Info.append(citySal.get_group(city).values.tolist())"
   ]
  },
  {
   "cell_type": "code",
   "execution_count": null,
   "metadata": {},
   "outputs": [],
   "source": [
    "f5, ax5 = plt.subplots(figsize=(35, 15))\n",
    "box = ax5.boxplot(top30Info, widths=0.8)\n",
    "ax5.set_title('Locations and the Average Highest Salary')\n",
    "ax5.set_xlabel('Location')\n",
    "ax5.set_ylabel('Salary')\n",
    "ax5.set_xticklabels(top30)\n",
    "f5.autofmt_xdate()\n",
    "plt.show()"
   ]
  },
  {
   "cell_type": "code",
   "execution_count": null,
   "metadata": {},
   "outputs": [],
   "source": [
    "df"
   ]
  },
  {
   "cell_type": "code",
   "execution_count": 158,
   "metadata": {},
   "outputs": [
    {
     "data": {
      "text/plain": [
       "37687294    1\n",
       "37456740    1\n",
       "37614363    1\n",
       "37643033    1\n",
       "37395222    1\n",
       "           ..\n",
       "37606816    1\n",
       "37595490    1\n",
       "37627294    1\n",
       "37606824    1\n",
       "37584896    1\n",
       "Name: Id, Length: 16461, dtype: int64"
      ]
     },
     "execution_count": 158,
     "metadata": {},
     "output_type": "execute_result"
    }
   ],
   "source": [
    "bris = df[df['Location']=='Brisbane']\n",
    "mel = df[df['Location'] == 'Melbourne']\n",
    "bris['Id'].value_counts()"
   ]
  },
  {
   "cell_type": "code",
   "execution_count": 159,
   "metadata": {},
   "outputs": [
    {
     "data": {
      "text/plain": [
       "37423103    1\n",
       "37442944    1\n",
       "37424523    1\n",
       "37645703    1\n",
       "37512582    1\n",
       "           ..\n",
       "37432240    1\n",
       "37626801    1\n",
       "37632946    1\n",
       "37696435    1\n",
       "37423105    1\n",
       "Name: Id, Length: 35185, dtype: int64"
      ]
     },
     "execution_count": 159,
     "metadata": {},
     "output_type": "execute_result"
    }
   ],
   "source": [
    "mel['Id'].value_counts()"
   ]
  },
  {
   "cell_type": "code",
   "execution_count": 160,
   "metadata": {},
   "outputs": [
    {
     "data": {
      "text/plain": [
       "Full Time          10381\n",
       "Contract/Temp       3149\n",
       "Casual/Vacation     1537\n",
       "Part Time            982\n",
       "Name: JobType, dtype: int64"
      ]
     },
     "execution_count": 160,
     "metadata": {},
     "output_type": "execute_result"
    }
   ],
   "source": [
    "bris['JobType'].value_counts()"
   ]
  },
  {
   "cell_type": "code",
   "execution_count": 161,
   "metadata": {},
   "outputs": [
    {
     "data": {
      "text/plain": [
       "Full Time          23193\n",
       "Contract/Temp       5524\n",
       "Casual/Vacation     2846\n",
       "Part Time           2814\n",
       "Name: JobType, dtype: int64"
      ]
     },
     "execution_count": 161,
     "metadata": {},
     "output_type": "execute_result"
    }
   ],
   "source": [
    "mel['JobType'].value_counts()"
   ]
  },
  {
   "cell_type": "code",
   "execution_count": 162,
   "metadata": {},
   "outputs": [
    {
     "data": {
      "text/plain": [
       "Information & Communication Technology    2036\n",
       "Trades & Services                         1625\n",
       "Healthcare & Medical                      1336\n",
       "Manufacturing, Transport & Logistics      1335\n",
       "Hospitality & Tourism                     1030\n",
       "Name: Classification, dtype: int64"
      ]
     },
     "execution_count": 162,
     "metadata": {},
     "output_type": "execute_result"
    }
   ],
   "source": [
    "brisSectors = bris['Classification'].value_counts()\n",
    "brisSectors.head(5)"
   ]
  },
  {
   "cell_type": "code",
   "execution_count": 163,
   "metadata": {},
   "outputs": [
    {
     "data": {
      "text/plain": [
       "Information & Communication Technology    4204\n",
       "Hospitality & Tourism                     3112\n",
       "Trades & Services                         3028\n",
       "Manufacturing, Transport & Logistics      2700\n",
       "Healthcare & Medical                      2593\n",
       "Name: Classification, dtype: int64"
      ]
     },
     "execution_count": 163,
     "metadata": {},
     "output_type": "execute_result"
    }
   ],
   "source": [
    "melSectors = mel['Classification'].value_counts()\n",
    "melSectors.head(5)"
   ]
  },
  {
   "cell_type": "code",
   "execution_count": 164,
   "metadata": {},
   "outputs": [
    {
     "data": {
      "image/png": "[encoded data removed]",
      "text/plain": [
       "<Figure size 432x288 with 1 Axes>"
      ]
     },
     "metadata": {},
     "output_type": "display_data"
    }
   ],
   "source": [
    "f7, ax7 = plt.subplots()\n",
    "ax7.pie(brisSectors.head(5), labels = brisSectors.head(5).index, autopct = '%1.1f%%')\n",
    "#jobTypeCount.plot(kind='pie')\n",
    "ax7.set_title('Brisbane Top 5 Job Sectors')\n",
    "plt.show()"
   ]
  },
  {
   "cell_type": "code",
   "execution_count": 165,
   "metadata": {},
   "outputs": [
    {
     "data": {
      "image/png": "[encoded data removed]",
      "text/plain": [
       "<Figure size 432x288 with 1 Axes>"
      ]
     },
     "metadata": {},
     "output_type": "display_data"
    }
   ],
   "source": [
    "f8, ax8 = plt.subplots()\n",
    "ax8.pie(melSectors.head(5), labels = melSectors.head(5).index, autopct = '%1.1f%%')\n",
    "#jobTypeCount.plot(kind='pie')\n",
    "ax8.set_title('Melbourne Top 5 Job Sectors')\n",
    "plt.show()"
   ]
  },
  {
   "cell_type": "code",
   "execution_count": 166,
   "metadata": {},
   "outputs": [
    {
     "ename": "KeyError",
     "evalue": "('LowestSalary', 'HighestSalary')",
     "output_type": "error",
     "traceback": [
      "\u001b[1;31m---------------------------------------------------------------------------\u001b[0m",
      "\u001b[1;31mKeyError\u001b[0m                                  Traceback (most recent call last)",
      "\u001b[1;32m~\\anaconda3\\lib\\site-packages\\pandas\\core\\indexes\\base.py\u001b[0m in \u001b[0;36mget_loc\u001b[1;34m(self, key, method, tolerance)\u001b[0m\n\u001b[0;32m   2645\u001b[0m             \u001b[1;32mtry\u001b[0m\u001b[1;33m:\u001b[0m\u001b[1;33m\u001b[0m\u001b[1;33m\u001b[0m\u001b[0m\n\u001b[1;32m-> 2646\u001b[1;33m                 \u001b[1;32mreturn\u001b[0m \u001b[0mself\u001b[0m\u001b[1;33m.\u001b[0m\u001b[0m_engine\u001b[0m\u001b[1;33m.\u001b[0m\u001b[0mget_loc\u001b[0m\u001b[1;33m(\u001b[0m\u001b[0mkey\u001b[0m\u001b[1;33m)\u001b[0m\u001b[1;33m\u001b[0m\u001b[1;33m\u001b[0m\u001b[0m\n\u001b[0m\u001b[0;32m   2647\u001b[0m             \u001b[1;32mexcept\u001b[0m \u001b[0mKeyError\u001b[0m\u001b[1;33m:\u001b[0m\u001b[1;33m\u001b[0m\u001b[1;33m\u001b[0m\u001b[0m\n",
      "\u001b[1;32mpandas\\_libs\\index.pyx\u001b[0m in \u001b[0;36mpandas._libs.index.IndexEngine.get_loc\u001b[1;34m()\u001b[0m\n",
      "\u001b[1;32mpandas\\_libs\\index.pyx\u001b[0m in \u001b[0;36mpandas._libs.index.IndexEngine.get_loc\u001b[1;34m()\u001b[0m\n",
      "\u001b[1;32mpandas\\_libs\\hashtable_class_helper.pxi\u001b[0m in \u001b[0;36mpandas._libs.hashtable.PyObjectHashTable.get_item\u001b[1;34m()\u001b[0m\n",
      "\u001b[1;32mpandas\\_libs\\hashtable_class_helper.pxi\u001b[0m in \u001b[0;36mpandas._libs.hashtable.PyObjectHashTable.get_item\u001b[1;34m()\u001b[0m\n",
      "\u001b[1;31mKeyError\u001b[0m: ('LowestSalary', 'HighestSalary')",
      "\nDuring handling of the above exception, another exception occurred:\n",
      "\u001b[1;31mKeyError\u001b[0m                                  Traceback (most recent call last)",
      "\u001b[1;32m<ipython-input-166-52084cd79d63>\u001b[0m in \u001b[0;36m<module>\u001b[1;34m\u001b[0m\n\u001b[1;32m----> 1\u001b[1;33m \u001b[0mbris\u001b[0m\u001b[1;33m[\u001b[0m\u001b[1;34m'LowestSalary'\u001b[0m\u001b[1;33m,\u001b[0m \u001b[1;34m'HighestSalary'\u001b[0m\u001b[1;33m]\u001b[0m\u001b[1;33m\u001b[0m\u001b[1;33m\u001b[0m\u001b[0m\n\u001b[0m",
      "\u001b[1;32m~\\anaconda3\\lib\\site-packages\\pandas\\core\\frame.py\u001b[0m in \u001b[0;36m__getitem__\u001b[1;34m(self, key)\u001b[0m\n\u001b[0;32m   2798\u001b[0m             \u001b[1;32mif\u001b[0m \u001b[0mself\u001b[0m\u001b[1;33m.\u001b[0m\u001b[0mcolumns\u001b[0m\u001b[1;33m.\u001b[0m\u001b[0mnlevels\u001b[0m \u001b[1;33m>\u001b[0m \u001b[1;36m1\u001b[0m\u001b[1;33m:\u001b[0m\u001b[1;33m\u001b[0m\u001b[1;33m\u001b[0m\u001b[0m\n\u001b[0;32m   2799\u001b[0m                 \u001b[1;32mreturn\u001b[0m \u001b[0mself\u001b[0m\u001b[1;33m.\u001b[0m\u001b[0m_getitem_multilevel\u001b[0m\u001b[1;33m(\u001b[0m\u001b[0mkey\u001b[0m\u001b[1;33m)\u001b[0m\u001b[1;33m\u001b[0m\u001b[1;33m\u001b[0m\u001b[0m\n\u001b[1;32m-> 2800\u001b[1;33m             \u001b[0mindexer\u001b[0m \u001b[1;33m=\u001b[0m \u001b[0mself\u001b[0m\u001b[1;33m.\u001b[0m\u001b[0mcolumns\u001b[0m\u001b[1;33m.\u001b[0m\u001b[0mget_loc\u001b[0m\u001b[1;33m(\u001b[0m\u001b[0mkey\u001b[0m\u001b[1;33m)\u001b[0m\u001b[1;33m\u001b[0m\u001b[1;33m\u001b[0m\u001b[0m\n\u001b[0m\u001b[0;32m   2801\u001b[0m             \u001b[1;32mif\u001b[0m \u001b[0mis_integer\u001b[0m\u001b[1;33m(\u001b[0m\u001b[0mindexer\u001b[0m\u001b[1;33m)\u001b[0m\u001b[1;33m:\u001b[0m\u001b[1;33m\u001b[0m\u001b[1;33m\u001b[0m\u001b[0m\n\u001b[0;32m   2802\u001b[0m                 \u001b[0mindexer\u001b[0m \u001b[1;33m=\u001b[0m \u001b[1;33m[\u001b[0m\u001b[0mindexer\u001b[0m\u001b[1;33m]\u001b[0m\u001b[1;33m\u001b[0m\u001b[1;33m\u001b[0m\u001b[0m\n",
      "\u001b[1;32m~\\anaconda3\\lib\\site-packages\\pandas\\core\\indexes\\base.py\u001b[0m in \u001b[0;36mget_loc\u001b[1;34m(self, key, method, tolerance)\u001b[0m\n\u001b[0;32m   2646\u001b[0m                 \u001b[1;32mreturn\u001b[0m \u001b[0mself\u001b[0m\u001b[1;33m.\u001b[0m\u001b[0m_engine\u001b[0m\u001b[1;33m.\u001b[0m\u001b[0mget_loc\u001b[0m\u001b[1;33m(\u001b[0m\u001b[0mkey\u001b[0m\u001b[1;33m)\u001b[0m\u001b[1;33m\u001b[0m\u001b[1;33m\u001b[0m\u001b[0m\n\u001b[0;32m   2647\u001b[0m             \u001b[1;32mexcept\u001b[0m \u001b[0mKeyError\u001b[0m\u001b[1;33m:\u001b[0m\u001b[1;33m\u001b[0m\u001b[1;33m\u001b[0m\u001b[0m\n\u001b[1;32m-> 2648\u001b[1;33m                 \u001b[1;32mreturn\u001b[0m \u001b[0mself\u001b[0m\u001b[1;33m.\u001b[0m\u001b[0m_engine\u001b[0m\u001b[1;33m.\u001b[0m\u001b[0mget_loc\u001b[0m\u001b[1;33m(\u001b[0m\u001b[0mself\u001b[0m\u001b[1;33m.\u001b[0m\u001b[0m_maybe_cast_indexer\u001b[0m\u001b[1;33m(\u001b[0m\u001b[0mkey\u001b[0m\u001b[1;33m)\u001b[0m\u001b[1;33m)\u001b[0m\u001b[1;33m\u001b[0m\u001b[1;33m\u001b[0m\u001b[0m\n\u001b[0m\u001b[0;32m   2649\u001b[0m         \u001b[0mindexer\u001b[0m \u001b[1;33m=\u001b[0m \u001b[0mself\u001b[0m\u001b[1;33m.\u001b[0m\u001b[0mget_indexer\u001b[0m\u001b[1;33m(\u001b[0m\u001b[1;33m[\u001b[0m\u001b[0mkey\u001b[0m\u001b[1;33m]\u001b[0m\u001b[1;33m,\u001b[0m \u001b[0mmethod\u001b[0m\u001b[1;33m=\u001b[0m\u001b[0mmethod\u001b[0m\u001b[1;33m,\u001b[0m \u001b[0mtolerance\u001b[0m\u001b[1;33m=\u001b[0m\u001b[0mtolerance\u001b[0m\u001b[1;33m)\u001b[0m\u001b[1;33m\u001b[0m\u001b[1;33m\u001b[0m\u001b[0m\n\u001b[0;32m   2650\u001b[0m         \u001b[1;32mif\u001b[0m \u001b[0mindexer\u001b[0m\u001b[1;33m.\u001b[0m\u001b[0mndim\u001b[0m \u001b[1;33m>\u001b[0m \u001b[1;36m1\u001b[0m \u001b[1;32mor\u001b[0m \u001b[0mindexer\u001b[0m\u001b[1;33m.\u001b[0m\u001b[0msize\u001b[0m \u001b[1;33m>\u001b[0m \u001b[1;36m1\u001b[0m\u001b[1;33m:\u001b[0m\u001b[1;33m\u001b[0m\u001b[1;33m\u001b[0m\u001b[0m\n",
      "\u001b[1;32mpandas\\_libs\\index.pyx\u001b[0m in \u001b[0;36mpandas._libs.index.IndexEngine.get_loc\u001b[1;34m()\u001b[0m\n",
      "\u001b[1;32mpandas\\_libs\\index.pyx\u001b[0m in \u001b[0;36mpandas._libs.index.IndexEngine.get_loc\u001b[1;34m()\u001b[0m\n",
      "\u001b[1;32mpandas\\_libs\\hashtable_class_helper.pxi\u001b[0m in \u001b[0;36mpandas._libs.hashtable.PyObjectHashTable.get_item\u001b[1;34m()\u001b[0m\n",
      "\u001b[1;32mpandas\\_libs\\hashtable_class_helper.pxi\u001b[0m in \u001b[0;36mpandas._libs.hashtable.PyObjectHashTable.get_item\u001b[1;34m()\u001b[0m\n",
      "\u001b[1;31mKeyError\u001b[0m: ('LowestSalary', 'HighestSalary')"
     ]
    }
   ],
   "source": [
    "bris['LowestSalary', 'HighestSalary']"
   ]
  },
  {
   "cell_type": "code",
   "execution_count": null,
   "metadata": {},
   "outputs": [],
   "source": []
  }
 ],
 "metadata": {
  "kernelspec": {
   "display_name": "Python 3",
   "language": "python",
   "name": "python3"
  },
  "language_info": {
   "codemirror_mode": {
    "name": "ipython",
    "version": 3
   },
   "file_extension": ".py",
   "mimetype": "text/x-python",
   "name": "python",
   "nbconvert_exporter": "python",
   "pygments_lexer": "ipython3",
   "version": "3.7.6"
  }
 },
 "nbformat": 4,
 "nbformat_minor": 4
}
